{
  "cells": [
    {
      "cell_type": "markdown",
      "metadata": {
        "id": "view-in-github",
        "colab_type": "text"
      },
      "source": [
        "<a href=\"https://colab.research.google.com/github/dianabutch023/IS4487/blob/main/lab_9.ipynb\" target=\"_parent\"><img src=\"https://colab.research.google.com/assets/colab-badge.svg\" alt=\"Open In Colab\"/></a>"
      ]
    },
    {
      "cell_type": "markdown",
      "metadata": {
        "id": "p_Yu45OYdj3Y"
      },
      "source": [
        "# IS 4487 Lab 9\n",
        "\n",
        "## Outline\n",
        "\n",
        "a. Understand model accuracy.  Why is it a performance metric for classification and not regression?\n",
        "    \n",
        "b. Calculate accuracy for a simple majority class model (this is the same as calculating the proportion of the majority class in a binary variable). Consider: x <- c(1, 1, 1, 0, 0).  What is the majority class? What is the proportion of the majority class in x?\n",
        "    \n",
        "c. Fit a tree model of the target with just one predictor variable and calculate the accuracy of this model.\n",
        "    \n",
        "d. Interpret a tree model, and calculate information gain.\n",
        "    \n",
        "e. Fit a tree model of the target using all the predictors, then:  create a visualization of the tree and identify the top 3 most important predictors in this model.\n",
        "    \n",
        "f. How do these models compare to majority class prediction?\n",
        "    \n",
        "g. How will you use a classification model as part of a solution to the AdviseInvest case?\n",
        "\n",
        "<a href=\"https://colab.research.google.com/github/Stan-Pugsley/is_4487_base/blob/main/Labs/Scripts/lab9_megatelco_fit_model.ipynb\" target=\"_parent\"><img src=\"https://colab.research.google.com/assets/colab-badge.svg\" alt=\"Open In Colab\"/></a>"
      ]
    },
    {
      "cell_type": "markdown",
      "metadata": {
        "id": "rt9TtCzFKWcs"
      },
      "source": [
        "## Megatelco Data Dictionary\n",
        "\n",
        " DEMOGRAPHIC VARIABLES:\n",
        " - College - has the customer attended some college (one, zero)\n",
        " - Income - annual income of customer\n",
        " - House - estimated price of the customer's home (if applicable)\n",
        "\n",
        " USAGE VARIABLES:\n",
        " - Data Overage Mb - Average number of megabytes that the customer used in excess of the plan limit (over last 12 months)\n",
        " - Data Leftover Mb - Average number of megabytes that the customer use was below the plan limit (over last 12 months)\n",
        " - Data Mb Used - Average number of megabytes used per month (over last 12 months)\n",
        " - Text Message Count - Average number of texts per month (over last 12 months)\n",
        " - Over 15 Minute Calls Per Month - Average number of calls over 15 minutes in duration per month (over last 12 months)\n",
        " - Average Call Duration- Average call duration (over last 12 months)\n",
        "\n",
        "PHONE VARIABLES:\n",
        " - Operating System - Current operating system of phone\n",
        " - Handset Price - Retail price of the phone used by the customer\n",
        "\n",
        "ATTITUDINAL VARIABLES:\n",
        " - Reported Satisfaction - Survey response to \"How satisfied are you with your current phone plan?\" (high, med, low)\n",
        " - Reported Usage Level - Survey response to \"How much do your use your phone?\" (high, med, low)\n",
        " - Considering Change of Plan - Survey response to \"Are you currently planning to change companies when your contract expires?\" (high, med, low)\n",
        "\n",
        "OTHER VARIABLES\n",
        " - Leave - Did this customer churn with the last contract expiration? (LEAVE, STAY)\n",
        " - ID - Customer identifier"
      ]
    },
    {
      "cell_type": "markdown",
      "metadata": {
        "id": "UE93RwXhgiJS"
      },
      "source": [
        "##Load Libraries\n",
        "\n",
        "In this class we will be using\n",
        "- Pandas\n",
        "- Scikitlearn\n",
        "- Matplotlib\n"
      ]
    },
    {
      "cell_type": "code",
      "execution_count": 1,
      "metadata": {
        "id": "JYRZY5n0gfNe"
      },
      "outputs": [],
      "source": [
        "import pandas as pd\n",
        "import matplotlib as mpl\n",
        "import numpy as np\n",
        "\n",
        "from sklearn.tree import DecisionTreeClassifier, export_graphviz # Import Decision Tree Classifier\n",
        "from sklearn.model_selection import train_test_split # Import train_test_split function\n",
        "from sklearn import metrics #Import scikit-learn metrics module for accuracy calculation\n",
        "from sklearn import tree\n"
      ]
    },
    {
      "cell_type": "markdown",
      "metadata": {
        "id": "bREaXo8jfu-O"
      },
      "source": [
        "## Import Data into Dataframe\n",
        "\n",
        "➡️ Assignment Tasks\n",
        "- Import data from the Megatelco dataset into a dataframe (in GitHub go to Labs > DataSets)\n",
        "- Describe or profile the dataframe\n"
      ]
    },
    {
      "cell_type": "code",
      "execution_count": 2,
      "metadata": {
        "id": "ePidmycBKWcu",
        "colab": {
          "base_uri": "https://localhost:8080/"
        },
        "outputId": "9b38eb07-39dc-42a9-c6cf-41d12cfd19ea"
      },
      "outputs": [
        {
          "output_type": "stream",
          "name": "stdout",
          "text": [
            "              income  data_overage_mb  data_leftover_mb  data_mb_used  \\\n",
            "count   14999.000000     14999.000000      14999.000000  14999.000000   \n",
            "mean   241989.140476       153.522502         37.522035   4202.624442   \n",
            "std    109603.370138       113.018111         28.046409   2202.763649   \n",
            "min    -65000.000000         0.000000          0.000000    400.000000   \n",
            "25%    147822.000000        54.000000         12.000000   2294.000000   \n",
            "50%    241656.000000       151.000000         35.000000   4223.000000   \n",
            "75%    336456.500000       242.000000         62.000000   6080.000000   \n",
            "max    432000.000000       380.000000         89.000000   8000.000000   \n",
            "\n",
            "       text_message_count         house  handset_price  \\\n",
            "count        14999.000000  1.499900e+04   14999.000000   \n",
            "mean           135.622041  8.771616e+05     795.146810   \n",
            "std             48.831061  2.870316e+05    1235.785429   \n",
            "min             52.000000 -4.630000e+02     215.000000   \n",
            "25%             93.000000  6.444405e+05     498.000000   \n",
            "50%            135.000000  8.764130e+05     778.000000   \n",
            "75%            178.000000  1.098834e+06    1064.000000   \n",
            "max            220.000000  1.456389e+06  125000.000000   \n",
            "\n",
            "       over_15mins_calls_per_month  average_call_duration            id  \n",
            "count                 14996.000000           14999.000000  14999.000000  \n",
            "mean                     10.568685               9.731515  11859.749517  \n",
            "std                       8.402100               5.195150   6812.842446  \n",
            "min                       0.000000               1.000000      2.000000  \n",
            "25%                       3.000000               5.000000   6137.000000  \n",
            "50%                       9.000000              10.000000  11760.000000  \n",
            "75%                      17.000000              14.000000  17396.000000  \n",
            "max                      35.000000              19.000000  25354.000000  \n"
          ]
        }
      ],
      "source": [
        "df = pd.read_csv('https://github.com/Stan-Pugsley/is_4487_base/blob/main/Labs/DataSets/megatelco_leave_survey.csv?raw=true')\n",
        "print(df.describe())"
      ]
    },
    {
      "cell_type": "markdown",
      "metadata": {
        "id": "BtxOWvFlKzgE"
      },
      "source": [
        "## Clean up the data\n",
        "Did you notice anything unusual about the \"house\" amounts?\n",
        "\n",
        "How about the handset price and income?\n",
        "\n",
        "Clean up the data in a  new datafram named \"df_clean\"\n"
      ]
    },
    {
      "cell_type": "code",
      "execution_count": 3,
      "metadata": {
        "id": "7KXLvMcBK8Za",
        "colab": {
          "base_uri": "https://localhost:8080/",
          "height": 300
        },
        "outputId": "b7f066fb-2882-4445-9eae-f81e8c746dcf"
      },
      "outputs": [
        {
          "output_type": "execute_result",
          "data": {
            "text/plain": [
              "              income  data_overage_mb  data_leftover_mb  data_mb_used  \\\n",
              "count   10412.000000     10412.000000      10412.000000  10412.000000   \n",
              "mean   242068.987706       153.847003         37.472436   4195.399827   \n",
              "std    109041.788157       113.013727         28.015291   2205.189091   \n",
              "min     52491.000000         0.000000          0.000000    400.000000   \n",
              "25%    148548.000000        55.000000         12.000000   2290.750000   \n",
              "50%    241663.000000       151.000000         35.000000   4206.500000   \n",
              "75%    335660.500000       242.000000         62.000000   6079.250000   \n",
              "max    431916.000000       380.000000         89.000000   8000.000000   \n",
              "\n",
              "       text_message_count         house  handset_price  \\\n",
              "count        10412.000000  1.041200e+04   10412.000000   \n",
              "mean           135.500000  8.758348e+05     607.473492   \n",
              "std             48.916131  2.868363e+05     225.506388   \n",
              "min             52.000000  3.202380e+05     215.000000   \n",
              "25%             93.000000  6.447640e+05     413.000000   \n",
              "50%            135.000000  8.730785e+05     608.000000   \n",
              "75%            178.000000  1.098298e+06     802.000000   \n",
              "max            220.000000  1.456389e+06     999.000000   \n",
              "\n",
              "       over_15mins_calls_per_month  average_call_duration            id  \n",
              "count                 10412.000000           10412.000000  10412.000000  \n",
              "mean                     10.571072               9.747503  11839.793988  \n",
              "std                       8.444673               5.180381   6805.159729  \n",
              "min                       0.000000               1.000000      2.000000  \n",
              "25%                       3.000000               5.000000   6070.750000  \n",
              "50%                       9.000000              10.000000  11743.000000  \n",
              "75%                      17.000000              14.000000  17330.500000  \n",
              "max                      35.000000              19.000000  25354.000000  "
            ],
            "text/html": [
              "\n",
              "  <div id=\"df-7baeaab4-e62b-4c79-9022-ffddb8c1c5a1\" class=\"colab-df-container\">\n",
              "    <div>\n",
              "<style scoped>\n",
              "    .dataframe tbody tr th:only-of-type {\n",
              "        vertical-align: middle;\n",
              "    }\n",
              "\n",
              "    .dataframe tbody tr th {\n",
              "        vertical-align: top;\n",
              "    }\n",
              "\n",
              "    .dataframe thead th {\n",
              "        text-align: right;\n",
              "    }\n",
              "</style>\n",
              "<table border=\"1\" class=\"dataframe\">\n",
              "  <thead>\n",
              "    <tr style=\"text-align: right;\">\n",
              "      <th></th>\n",
              "      <th>income</th>\n",
              "      <th>data_overage_mb</th>\n",
              "      <th>data_leftover_mb</th>\n",
              "      <th>data_mb_used</th>\n",
              "      <th>text_message_count</th>\n",
              "      <th>house</th>\n",
              "      <th>handset_price</th>\n",
              "      <th>over_15mins_calls_per_month</th>\n",
              "      <th>average_call_duration</th>\n",
              "      <th>id</th>\n",
              "    </tr>\n",
              "  </thead>\n",
              "  <tbody>\n",
              "    <tr>\n",
              "      <th>count</th>\n",
              "      <td>10412.000000</td>\n",
              "      <td>10412.000000</td>\n",
              "      <td>10412.000000</td>\n",
              "      <td>10412.000000</td>\n",
              "      <td>10412.000000</td>\n",
              "      <td>1.041200e+04</td>\n",
              "      <td>10412.000000</td>\n",
              "      <td>10412.000000</td>\n",
              "      <td>10412.000000</td>\n",
              "      <td>10412.000000</td>\n",
              "    </tr>\n",
              "    <tr>\n",
              "      <th>mean</th>\n",
              "      <td>242068.987706</td>\n",
              "      <td>153.847003</td>\n",
              "      <td>37.472436</td>\n",
              "      <td>4195.399827</td>\n",
              "      <td>135.500000</td>\n",
              "      <td>8.758348e+05</td>\n",
              "      <td>607.473492</td>\n",
              "      <td>10.571072</td>\n",
              "      <td>9.747503</td>\n",
              "      <td>11839.793988</td>\n",
              "    </tr>\n",
              "    <tr>\n",
              "      <th>std</th>\n",
              "      <td>109041.788157</td>\n",
              "      <td>113.013727</td>\n",
              "      <td>28.015291</td>\n",
              "      <td>2205.189091</td>\n",
              "      <td>48.916131</td>\n",
              "      <td>2.868363e+05</td>\n",
              "      <td>225.506388</td>\n",
              "      <td>8.444673</td>\n",
              "      <td>5.180381</td>\n",
              "      <td>6805.159729</td>\n",
              "    </tr>\n",
              "    <tr>\n",
              "      <th>min</th>\n",
              "      <td>52491.000000</td>\n",
              "      <td>0.000000</td>\n",
              "      <td>0.000000</td>\n",
              "      <td>400.000000</td>\n",
              "      <td>52.000000</td>\n",
              "      <td>3.202380e+05</td>\n",
              "      <td>215.000000</td>\n",
              "      <td>0.000000</td>\n",
              "      <td>1.000000</td>\n",
              "      <td>2.000000</td>\n",
              "    </tr>\n",
              "    <tr>\n",
              "      <th>25%</th>\n",
              "      <td>148548.000000</td>\n",
              "      <td>55.000000</td>\n",
              "      <td>12.000000</td>\n",
              "      <td>2290.750000</td>\n",
              "      <td>93.000000</td>\n",
              "      <td>6.447640e+05</td>\n",
              "      <td>413.000000</td>\n",
              "      <td>3.000000</td>\n",
              "      <td>5.000000</td>\n",
              "      <td>6070.750000</td>\n",
              "    </tr>\n",
              "    <tr>\n",
              "      <th>50%</th>\n",
              "      <td>241663.000000</td>\n",
              "      <td>151.000000</td>\n",
              "      <td>35.000000</td>\n",
              "      <td>4206.500000</td>\n",
              "      <td>135.000000</td>\n",
              "      <td>8.730785e+05</td>\n",
              "      <td>608.000000</td>\n",
              "      <td>9.000000</td>\n",
              "      <td>10.000000</td>\n",
              "      <td>11743.000000</td>\n",
              "    </tr>\n",
              "    <tr>\n",
              "      <th>75%</th>\n",
              "      <td>335660.500000</td>\n",
              "      <td>242.000000</td>\n",
              "      <td>62.000000</td>\n",
              "      <td>6079.250000</td>\n",
              "      <td>178.000000</td>\n",
              "      <td>1.098298e+06</td>\n",
              "      <td>802.000000</td>\n",
              "      <td>17.000000</td>\n",
              "      <td>14.000000</td>\n",
              "      <td>17330.500000</td>\n",
              "    </tr>\n",
              "    <tr>\n",
              "      <th>max</th>\n",
              "      <td>431916.000000</td>\n",
              "      <td>380.000000</td>\n",
              "      <td>89.000000</td>\n",
              "      <td>8000.000000</td>\n",
              "      <td>220.000000</td>\n",
              "      <td>1.456389e+06</td>\n",
              "      <td>999.000000</td>\n",
              "      <td>35.000000</td>\n",
              "      <td>19.000000</td>\n",
              "      <td>25354.000000</td>\n",
              "    </tr>\n",
              "  </tbody>\n",
              "</table>\n",
              "</div>\n",
              "    <div class=\"colab-df-buttons\">\n",
              "\n",
              "  <div class=\"colab-df-container\">\n",
              "    <button class=\"colab-df-convert\" onclick=\"convertToInteractive('df-7baeaab4-e62b-4c79-9022-ffddb8c1c5a1')\"\n",
              "            title=\"Convert this dataframe to an interactive table.\"\n",
              "            style=\"display:none;\">\n",
              "\n",
              "  <svg xmlns=\"http://www.w3.org/2000/svg\" height=\"24px\" viewBox=\"0 -960 960 960\">\n",
              "    <path d=\"M120-120v-720h720v720H120Zm60-500h600v-160H180v160Zm220 220h160v-160H400v160Zm0 220h160v-160H400v160ZM180-400h160v-160H180v160Zm440 0h160v-160H620v160ZM180-180h160v-160H180v160Zm440 0h160v-160H620v160Z\"/>\n",
              "  </svg>\n",
              "    </button>\n",
              "\n",
              "  <style>\n",
              "    .colab-df-container {\n",
              "      display:flex;\n",
              "      gap: 12px;\n",
              "    }\n",
              "\n",
              "    .colab-df-convert {\n",
              "      background-color: #E8F0FE;\n",
              "      border: none;\n",
              "      border-radius: 50%;\n",
              "      cursor: pointer;\n",
              "      display: none;\n",
              "      fill: #1967D2;\n",
              "      height: 32px;\n",
              "      padding: 0 0 0 0;\n",
              "      width: 32px;\n",
              "    }\n",
              "\n",
              "    .colab-df-convert:hover {\n",
              "      background-color: #E2EBFA;\n",
              "      box-shadow: 0px 1px 2px rgba(60, 64, 67, 0.3), 0px 1px 3px 1px rgba(60, 64, 67, 0.15);\n",
              "      fill: #174EA6;\n",
              "    }\n",
              "\n",
              "    .colab-df-buttons div {\n",
              "      margin-bottom: 4px;\n",
              "    }\n",
              "\n",
              "    [theme=dark] .colab-df-convert {\n",
              "      background-color: #3B4455;\n",
              "      fill: #D2E3FC;\n",
              "    }\n",
              "\n",
              "    [theme=dark] .colab-df-convert:hover {\n",
              "      background-color: #434B5C;\n",
              "      box-shadow: 0px 1px 3px 1px rgba(0, 0, 0, 0.15);\n",
              "      filter: drop-shadow(0px 1px 2px rgba(0, 0, 0, 0.3));\n",
              "      fill: #FFFFFF;\n",
              "    }\n",
              "  </style>\n",
              "\n",
              "    <script>\n",
              "      const buttonEl =\n",
              "        document.querySelector('#df-7baeaab4-e62b-4c79-9022-ffddb8c1c5a1 button.colab-df-convert');\n",
              "      buttonEl.style.display =\n",
              "        google.colab.kernel.accessAllowed ? 'block' : 'none';\n",
              "\n",
              "      async function convertToInteractive(key) {\n",
              "        const element = document.querySelector('#df-7baeaab4-e62b-4c79-9022-ffddb8c1c5a1');\n",
              "        const dataTable =\n",
              "          await google.colab.kernel.invokeFunction('convertToInteractive',\n",
              "                                                    [key], {});\n",
              "        if (!dataTable) return;\n",
              "\n",
              "        const docLinkHtml = 'Like what you see? Visit the ' +\n",
              "          '<a target=\"_blank\" href=https://colab.research.google.com/notebooks/data_table.ipynb>data table notebook</a>'\n",
              "          + ' to learn more about interactive tables.';\n",
              "        element.innerHTML = '';\n",
              "        dataTable['output_type'] = 'display_data';\n",
              "        await google.colab.output.renderOutput(dataTable, element);\n",
              "        const docLink = document.createElement('div');\n",
              "        docLink.innerHTML = docLinkHtml;\n",
              "        element.appendChild(docLink);\n",
              "      }\n",
              "    </script>\n",
              "  </div>\n",
              "\n",
              "\n",
              "<div id=\"df-e91c1a55-0aaf-481a-be4b-90ec4908284e\">\n",
              "  <button class=\"colab-df-quickchart\" onclick=\"quickchart('df-e91c1a55-0aaf-481a-be4b-90ec4908284e')\"\n",
              "            title=\"Suggest charts\"\n",
              "            style=\"display:none;\">\n",
              "\n",
              "<svg xmlns=\"http://www.w3.org/2000/svg\" height=\"24px\"viewBox=\"0 0 24 24\"\n",
              "     width=\"24px\">\n",
              "    <g>\n",
              "        <path d=\"M19 3H5c-1.1 0-2 .9-2 2v14c0 1.1.9 2 2 2h14c1.1 0 2-.9 2-2V5c0-1.1-.9-2-2-2zM9 17H7v-7h2v7zm4 0h-2V7h2v10zm4 0h-2v-4h2v4z\"/>\n",
              "    </g>\n",
              "</svg>\n",
              "  </button>\n",
              "\n",
              "<style>\n",
              "  .colab-df-quickchart {\n",
              "      --bg-color: #E8F0FE;\n",
              "      --fill-color: #1967D2;\n",
              "      --hover-bg-color: #E2EBFA;\n",
              "      --hover-fill-color: #174EA6;\n",
              "      --disabled-fill-color: #AAA;\n",
              "      --disabled-bg-color: #DDD;\n",
              "  }\n",
              "\n",
              "  [theme=dark] .colab-df-quickchart {\n",
              "      --bg-color: #3B4455;\n",
              "      --fill-color: #D2E3FC;\n",
              "      --hover-bg-color: #434B5C;\n",
              "      --hover-fill-color: #FFFFFF;\n",
              "      --disabled-bg-color: #3B4455;\n",
              "      --disabled-fill-color: #666;\n",
              "  }\n",
              "\n",
              "  .colab-df-quickchart {\n",
              "    background-color: var(--bg-color);\n",
              "    border: none;\n",
              "    border-radius: 50%;\n",
              "    cursor: pointer;\n",
              "    display: none;\n",
              "    fill: var(--fill-color);\n",
              "    height: 32px;\n",
              "    padding: 0;\n",
              "    width: 32px;\n",
              "  }\n",
              "\n",
              "  .colab-df-quickchart:hover {\n",
              "    background-color: var(--hover-bg-color);\n",
              "    box-shadow: 0 1px 2px rgba(60, 64, 67, 0.3), 0 1px 3px 1px rgba(60, 64, 67, 0.15);\n",
              "    fill: var(--button-hover-fill-color);\n",
              "  }\n",
              "\n",
              "  .colab-df-quickchart-complete:disabled,\n",
              "  .colab-df-quickchart-complete:disabled:hover {\n",
              "    background-color: var(--disabled-bg-color);\n",
              "    fill: var(--disabled-fill-color);\n",
              "    box-shadow: none;\n",
              "  }\n",
              "\n",
              "  .colab-df-spinner {\n",
              "    border: 2px solid var(--fill-color);\n",
              "    border-color: transparent;\n",
              "    border-bottom-color: var(--fill-color);\n",
              "    animation:\n",
              "      spin 1s steps(1) infinite;\n",
              "  }\n",
              "\n",
              "  @keyframes spin {\n",
              "    0% {\n",
              "      border-color: transparent;\n",
              "      border-bottom-color: var(--fill-color);\n",
              "      border-left-color: var(--fill-color);\n",
              "    }\n",
              "    20% {\n",
              "      border-color: transparent;\n",
              "      border-left-color: var(--fill-color);\n",
              "      border-top-color: var(--fill-color);\n",
              "    }\n",
              "    30% {\n",
              "      border-color: transparent;\n",
              "      border-left-color: var(--fill-color);\n",
              "      border-top-color: var(--fill-color);\n",
              "      border-right-color: var(--fill-color);\n",
              "    }\n",
              "    40% {\n",
              "      border-color: transparent;\n",
              "      border-right-color: var(--fill-color);\n",
              "      border-top-color: var(--fill-color);\n",
              "    }\n",
              "    60% {\n",
              "      border-color: transparent;\n",
              "      border-right-color: var(--fill-color);\n",
              "    }\n",
              "    80% {\n",
              "      border-color: transparent;\n",
              "      border-right-color: var(--fill-color);\n",
              "      border-bottom-color: var(--fill-color);\n",
              "    }\n",
              "    90% {\n",
              "      border-color: transparent;\n",
              "      border-bottom-color: var(--fill-color);\n",
              "    }\n",
              "  }\n",
              "</style>\n",
              "\n",
              "  <script>\n",
              "    async function quickchart(key) {\n",
              "      const quickchartButtonEl =\n",
              "        document.querySelector('#' + key + ' button');\n",
              "      quickchartButtonEl.disabled = true;  // To prevent multiple clicks.\n",
              "      quickchartButtonEl.classList.add('colab-df-spinner');\n",
              "      try {\n",
              "        const charts = await google.colab.kernel.invokeFunction(\n",
              "            'suggestCharts', [key], {});\n",
              "      } catch (error) {\n",
              "        console.error('Error during call to suggestCharts:', error);\n",
              "      }\n",
              "      quickchartButtonEl.classList.remove('colab-df-spinner');\n",
              "      quickchartButtonEl.classList.add('colab-df-quickchart-complete');\n",
              "    }\n",
              "    (() => {\n",
              "      let quickchartButtonEl =\n",
              "        document.querySelector('#df-e91c1a55-0aaf-481a-be4b-90ec4908284e button');\n",
              "      quickchartButtonEl.style.display =\n",
              "        google.colab.kernel.accessAllowed ? 'block' : 'none';\n",
              "    })();\n",
              "  </script>\n",
              "</div>\n",
              "\n",
              "    </div>\n",
              "  </div>\n"
            ],
            "application/vnd.google.colaboratory.intrinsic+json": {
              "type": "dataframe",
              "summary": "{\n  \"name\": \"df_clean\",\n  \"rows\": 8,\n  \"fields\": [\n    {\n      \"column\": \"income\",\n      \"properties\": {\n        \"dtype\": \"number\",\n        \"std\": 143536.073632693,\n        \"min\": 10412.0,\n        \"max\": 431916.0,\n        \"num_unique_values\": 8,\n        \"samples\": [\n          242068.9877064925,\n          241663.0,\n          10412.0\n        ],\n        \"semantic_type\": \"\",\n        \"description\": \"\"\n      }\n    },\n    {\n      \"column\": \"data_overage_mb\",\n      \"properties\": {\n        \"dtype\": \"number\",\n        \"std\": 3627.750080361006,\n        \"min\": 0.0,\n        \"max\": 10412.0,\n        \"num_unique_values\": 8,\n        \"samples\": [\n          153.847003457549,\n          151.0,\n          10412.0\n        ],\n        \"semantic_type\": \"\",\n        \"description\": \"\"\n      }\n    },\n    {\n      \"column\": \"data_leftover_mb\",\n      \"properties\": {\n        \"dtype\": \"number\",\n        \"std\": 3667.995019972789,\n        \"min\": 0.0,\n        \"max\": 10412.0,\n        \"num_unique_values\": 8,\n        \"samples\": [\n          37.47243565117172,\n          35.0,\n          10412.0\n        ],\n        \"semantic_type\": \"\",\n        \"description\": \"\"\n      }\n    },\n    {\n      \"column\": \"data_mb_used\",\n      \"properties\": {\n        \"dtype\": \"number\",\n        \"std\": 3304.3593685020755,\n        \"min\": 400.0,\n        \"max\": 10412.0,\n        \"num_unique_values\": 8,\n        \"samples\": [\n          4195.399827122551,\n          4206.5,\n          10412.0\n        ],\n        \"semantic_type\": \"\",\n        \"description\": \"\"\n      }\n    },\n    {\n      \"column\": \"text_message_count\",\n      \"properties\": {\n        \"dtype\": \"number\",\n        \"std\": 3638.113750867573,\n        \"min\": 48.916131456061045,\n        \"max\": 10412.0,\n        \"num_unique_values\": 8,\n        \"samples\": [\n          135.5,\n          135.0,\n          10412.0\n        ],\n        \"semantic_type\": \"\",\n        \"description\": \"\"\n      }\n    },\n    {\n      \"column\": \"house\",\n      \"properties\": {\n        \"dtype\": \"number\",\n        \"std\": 475845.1596563725,\n        \"min\": 10412.0,\n        \"max\": 1456389.0,\n        \"num_unique_values\": 8,\n        \"samples\": [\n          875834.8410487899,\n          873078.5,\n          10412.0\n        ],\n        \"semantic_type\": \"\",\n        \"description\": \"\"\n      }\n    },\n    {\n      \"column\": \"handset_price\",\n      \"properties\": {\n        \"dtype\": \"number\",\n        \"std\": 3496.1287879242127,\n        \"min\": 215.0,\n        \"max\": 10412.0,\n        \"num_unique_values\": 8,\n        \"samples\": [\n          607.4734921244718,\n          608.0,\n          10412.0\n        ],\n        \"semantic_type\": \"\",\n        \"description\": \"\"\n      }\n    },\n    {\n      \"column\": \"over_15mins_calls_per_month\",\n      \"properties\": {\n        \"dtype\": \"number\",\n        \"std\": 3677.02056455809,\n        \"min\": 0.0,\n        \"max\": 10412.0,\n        \"num_unique_values\": 8,\n        \"samples\": [\n          10.571071840184402,\n          9.0,\n          10412.0\n        ],\n        \"semantic_type\": \"\",\n        \"description\": \"\"\n      }\n    },\n    {\n      \"column\": \"average_call_duration\",\n      \"properties\": {\n        \"dtype\": \"number\",\n        \"std\": 3677.9733495940923,\n        \"min\": 1.0,\n        \"max\": 10412.0,\n        \"num_unique_values\": 8,\n        \"samples\": [\n          9.747502881290819,\n          10.0,\n          10412.0\n        ],\n        \"semantic_type\": \"\",\n        \"description\": \"\"\n      }\n    },\n    {\n      \"column\": \"id\",\n      \"properties\": {\n        \"dtype\": \"number\",\n        \"std\": 7655.64849568104,\n        \"min\": 2.0,\n        \"max\": 25354.0,\n        \"num_unique_values\": 8,\n        \"samples\": [\n          11839.793987706493,\n          11743.0,\n          10412.0\n        ],\n        \"semantic_type\": \"\",\n        \"description\": \"\"\n      }\n    }\n  ]\n}"
            }
          },
          "metadata": {},
          "execution_count": 3
        }
      ],
      "source": [
        "#delete rows with outlier data; put it in a new dataframe\n",
        "df_clean = df[(df['house'] > 0) & (df['income'] > 0) & (df['handset_price'] < 1000)]\n",
        "\n",
        "#delete any rows with missing values in the clean dataframe\n",
        "df_clean = df_clean.dropna()\n",
        "\n",
        "df_clean.describe()"
      ]
    },
    {
      "cell_type": "markdown",
      "metadata": {
        "id": "Zp7wGDqJ4iuL"
      },
      "source": [
        "# Standardize attributes\n",
        "\n",
        "- Convert the \"college\" and \"considering_change_of_plan\" attributes to 0 or 1\n",
        "- Convert non-numeric attributes to numeric scale of 1-3\n"
      ]
    },
    {
      "cell_type": "code",
      "execution_count": 4,
      "metadata": {
        "id": "xNDR1xg5dVzm",
        "colab": {
          "base_uri": "https://localhost:8080/"
        },
        "outputId": "33a57d4a-b6d6-4988-be9c-5449d0f20ea0"
      },
      "outputs": [
        {
          "output_type": "execute_result",
          "data": {
            "text/plain": [
              "array(['one', 'zero'], dtype=object)"
            ]
          },
          "metadata": {},
          "execution_count": 4
        }
      ],
      "source": [
        "#Get distinct values\n",
        "df_clean['college'].unique()"
      ]
    },
    {
      "cell_type": "code",
      "execution_count": 5,
      "metadata": {
        "id": "cw6i_45td0JC",
        "colab": {
          "base_uri": "https://localhost:8080/"
        },
        "outputId": "3b64b573-e1f9-461e-966e-0d49184b5ec6"
      },
      "outputs": [
        {
          "output_type": "execute_result",
          "data": {
            "text/plain": [
              "array(['low', 'high', 'avg'], dtype=object)"
            ]
          },
          "metadata": {},
          "execution_count": 5
        }
      ],
      "source": [
        "df_clean['reported_satisfaction'] .unique()"
      ]
    },
    {
      "cell_type": "code",
      "execution_count": 6,
      "metadata": {
        "id": "YhFAu2W4dz_6",
        "colab": {
          "base_uri": "https://localhost:8080/"
        },
        "outputId": "d447d67c-fa7d-4297-c07b-3a270ad1c9cf"
      },
      "outputs": [
        {
          "output_type": "execute_result",
          "data": {
            "text/plain": [
              "array(['low', 'high', 'avg'], dtype=object)"
            ]
          },
          "metadata": {},
          "execution_count": 6
        }
      ],
      "source": [
        "df_clean['reported_usage_level'].unique()"
      ]
    },
    {
      "cell_type": "code",
      "execution_count": 7,
      "metadata": {
        "id": "rmJbiN8rdzxJ",
        "colab": {
          "base_uri": "https://localhost:8080/"
        },
        "outputId": "e8a55c6e-8548-4fa5-d13c-e5d76e8e9ab4"
      },
      "outputs": [
        {
          "output_type": "execute_result",
          "data": {
            "text/plain": [
              "array(['yes', 'no', 'maybe'], dtype=object)"
            ]
          },
          "metadata": {},
          "execution_count": 7
        }
      ],
      "source": [
        "df_clean['considering_change_of_plan'].unique()"
      ]
    },
    {
      "cell_type": "code",
      "execution_count": 8,
      "metadata": {
        "id": "gvMekcKg4y5X",
        "colab": {
          "base_uri": "https://localhost:8080/",
          "height": 383
        },
        "outputId": "6a8de414-bab7-4bbd-87fa-52aaa9c94db2"
      },
      "outputs": [
        {
          "output_type": "execute_result",
          "data": {
            "text/plain": [
              "    college  income  data_overage_mb  data_leftover_mb  data_mb_used  \\\n",
              "0         1  403137               70                 0          6605   \n",
              "7         1  131230                0                 0          4489   \n",
              "8         1  193667                0                 0          1023   \n",
              "9         1  419573                0                74          4631   \n",
              "10        0  262085              222                17           530   \n",
              "11        1  310841               74                14          7025   \n",
              "12        0  398292                0                 0          3681   \n",
              "13        0  192245               96                40          4806   \n",
              "16        1  236152                0                21          3881   \n",
              "17        1  422168                0                10           794   \n",
              "\n",
              "    text_message_count    house  handset_price  over_15mins_calls_per_month  \\\n",
              "0                  199   841317            653                          5.0   \n",
              "7                   89   613744            365                          5.0   \n",
              "8                   76   949829            347                          1.0   \n",
              "9                  209   818027            640                          0.0   \n",
              "10                  95   781944            692                         10.0   \n",
              "11                 180   979451            835                          3.0   \n",
              "12                  93   878343            248                          0.0   \n",
              "13                 139  1141088            476                          4.0   \n",
              "16                 189  1364832            745                         13.0   \n",
              "17                 213   909127            874                          1.0   \n",
              "\n",
              "    average_call_duration  reported_satisfaction  reported_usage_level  \\\n",
              "0                       8                      1                     1   \n",
              "7                      10                      1                     3   \n",
              "8                       8                      3                     1   \n",
              "9                       2                      1                     1   \n",
              "10                      1                      3                     3   \n",
              "11                      5                      3                     1   \n",
              "12                      9                      2                     2   \n",
              "13                      2                      1                     3   \n",
              "16                      6                      3                     1   \n",
              "17                      4                      3                     1   \n",
              "\n",
              "    considering_change_of_plan  leave     id operating_system  \n",
              "0                          1.0  LEAVE   8183          Android  \n",
              "7                          1.0   STAY  18170          Android  \n",
              "8                          0.0  LEAVE   3201          Android  \n",
              "9                          1.0  LEAVE  12612          Android  \n",
              "10                         1.0  LEAVE   3266          Android  \n",
              "11                         0.0   STAY  13155              IOS  \n",
              "12                         0.0  LEAVE   1491          Android  \n",
              "13                         1.0  LEAVE  13418          Android  \n",
              "16                         1.0   STAY   3335          Android  \n",
              "17                         1.0   STAY     80              IOS  "
            ],
            "text/html": [
              "\n",
              "  <div id=\"df-a7a9d7c9-85b9-4f0a-b904-91e1f39b4005\" class=\"colab-df-container\">\n",
              "    <div>\n",
              "<style scoped>\n",
              "    .dataframe tbody tr th:only-of-type {\n",
              "        vertical-align: middle;\n",
              "    }\n",
              "\n",
              "    .dataframe tbody tr th {\n",
              "        vertical-align: top;\n",
              "    }\n",
              "\n",
              "    .dataframe thead th {\n",
              "        text-align: right;\n",
              "    }\n",
              "</style>\n",
              "<table border=\"1\" class=\"dataframe\">\n",
              "  <thead>\n",
              "    <tr style=\"text-align: right;\">\n",
              "      <th></th>\n",
              "      <th>college</th>\n",
              "      <th>income</th>\n",
              "      <th>data_overage_mb</th>\n",
              "      <th>data_leftover_mb</th>\n",
              "      <th>data_mb_used</th>\n",
              "      <th>text_message_count</th>\n",
              "      <th>house</th>\n",
              "      <th>handset_price</th>\n",
              "      <th>over_15mins_calls_per_month</th>\n",
              "      <th>average_call_duration</th>\n",
              "      <th>reported_satisfaction</th>\n",
              "      <th>reported_usage_level</th>\n",
              "      <th>considering_change_of_plan</th>\n",
              "      <th>leave</th>\n",
              "      <th>id</th>\n",
              "      <th>operating_system</th>\n",
              "    </tr>\n",
              "  </thead>\n",
              "  <tbody>\n",
              "    <tr>\n",
              "      <th>0</th>\n",
              "      <td>1</td>\n",
              "      <td>403137</td>\n",
              "      <td>70</td>\n",
              "      <td>0</td>\n",
              "      <td>6605</td>\n",
              "      <td>199</td>\n",
              "      <td>841317</td>\n",
              "      <td>653</td>\n",
              "      <td>5.0</td>\n",
              "      <td>8</td>\n",
              "      <td>1</td>\n",
              "      <td>1</td>\n",
              "      <td>1.0</td>\n",
              "      <td>LEAVE</td>\n",
              "      <td>8183</td>\n",
              "      <td>Android</td>\n",
              "    </tr>\n",
              "    <tr>\n",
              "      <th>7</th>\n",
              "      <td>1</td>\n",
              "      <td>131230</td>\n",
              "      <td>0</td>\n",
              "      <td>0</td>\n",
              "      <td>4489</td>\n",
              "      <td>89</td>\n",
              "      <td>613744</td>\n",
              "      <td>365</td>\n",
              "      <td>5.0</td>\n",
              "      <td>10</td>\n",
              "      <td>1</td>\n",
              "      <td>3</td>\n",
              "      <td>1.0</td>\n",
              "      <td>STAY</td>\n",
              "      <td>18170</td>\n",
              "      <td>Android</td>\n",
              "    </tr>\n",
              "    <tr>\n",
              "      <th>8</th>\n",
              "      <td>1</td>\n",
              "      <td>193667</td>\n",
              "      <td>0</td>\n",
              "      <td>0</td>\n",
              "      <td>1023</td>\n",
              "      <td>76</td>\n",
              "      <td>949829</td>\n",
              "      <td>347</td>\n",
              "      <td>1.0</td>\n",
              "      <td>8</td>\n",
              "      <td>3</td>\n",
              "      <td>1</td>\n",
              "      <td>0.0</td>\n",
              "      <td>LEAVE</td>\n",
              "      <td>3201</td>\n",
              "      <td>Android</td>\n",
              "    </tr>\n",
              "    <tr>\n",
              "      <th>9</th>\n",
              "      <td>1</td>\n",
              "      <td>419573</td>\n",
              "      <td>0</td>\n",
              "      <td>74</td>\n",
              "      <td>4631</td>\n",
              "      <td>209</td>\n",
              "      <td>818027</td>\n",
              "      <td>640</td>\n",
              "      <td>0.0</td>\n",
              "      <td>2</td>\n",
              "      <td>1</td>\n",
              "      <td>1</td>\n",
              "      <td>1.0</td>\n",
              "      <td>LEAVE</td>\n",
              "      <td>12612</td>\n",
              "      <td>Android</td>\n",
              "    </tr>\n",
              "    <tr>\n",
              "      <th>10</th>\n",
              "      <td>0</td>\n",
              "      <td>262085</td>\n",
              "      <td>222</td>\n",
              "      <td>17</td>\n",
              "      <td>530</td>\n",
              "      <td>95</td>\n",
              "      <td>781944</td>\n",
              "      <td>692</td>\n",
              "      <td>10.0</td>\n",
              "      <td>1</td>\n",
              "      <td>3</td>\n",
              "      <td>3</td>\n",
              "      <td>1.0</td>\n",
              "      <td>LEAVE</td>\n",
              "      <td>3266</td>\n",
              "      <td>Android</td>\n",
              "    </tr>\n",
              "    <tr>\n",
              "      <th>11</th>\n",
              "      <td>1</td>\n",
              "      <td>310841</td>\n",
              "      <td>74</td>\n",
              "      <td>14</td>\n",
              "      <td>7025</td>\n",
              "      <td>180</td>\n",
              "      <td>979451</td>\n",
              "      <td>835</td>\n",
              "      <td>3.0</td>\n",
              "      <td>5</td>\n",
              "      <td>3</td>\n",
              "      <td>1</td>\n",
              "      <td>0.0</td>\n",
              "      <td>STAY</td>\n",
              "      <td>13155</td>\n",
              "      <td>IOS</td>\n",
              "    </tr>\n",
              "    <tr>\n",
              "      <th>12</th>\n",
              "      <td>0</td>\n",
              "      <td>398292</td>\n",
              "      <td>0</td>\n",
              "      <td>0</td>\n",
              "      <td>3681</td>\n",
              "      <td>93</td>\n",
              "      <td>878343</td>\n",
              "      <td>248</td>\n",
              "      <td>0.0</td>\n",
              "      <td>9</td>\n",
              "      <td>2</td>\n",
              "      <td>2</td>\n",
              "      <td>0.0</td>\n",
              "      <td>LEAVE</td>\n",
              "      <td>1491</td>\n",
              "      <td>Android</td>\n",
              "    </tr>\n",
              "    <tr>\n",
              "      <th>13</th>\n",
              "      <td>0</td>\n",
              "      <td>192245</td>\n",
              "      <td>96</td>\n",
              "      <td>40</td>\n",
              "      <td>4806</td>\n",
              "      <td>139</td>\n",
              "      <td>1141088</td>\n",
              "      <td>476</td>\n",
              "      <td>4.0</td>\n",
              "      <td>2</td>\n",
              "      <td>1</td>\n",
              "      <td>3</td>\n",
              "      <td>1.0</td>\n",
              "      <td>LEAVE</td>\n",
              "      <td>13418</td>\n",
              "      <td>Android</td>\n",
              "    </tr>\n",
              "    <tr>\n",
              "      <th>16</th>\n",
              "      <td>1</td>\n",
              "      <td>236152</td>\n",
              "      <td>0</td>\n",
              "      <td>21</td>\n",
              "      <td>3881</td>\n",
              "      <td>189</td>\n",
              "      <td>1364832</td>\n",
              "      <td>745</td>\n",
              "      <td>13.0</td>\n",
              "      <td>6</td>\n",
              "      <td>3</td>\n",
              "      <td>1</td>\n",
              "      <td>1.0</td>\n",
              "      <td>STAY</td>\n",
              "      <td>3335</td>\n",
              "      <td>Android</td>\n",
              "    </tr>\n",
              "    <tr>\n",
              "      <th>17</th>\n",
              "      <td>1</td>\n",
              "      <td>422168</td>\n",
              "      <td>0</td>\n",
              "      <td>10</td>\n",
              "      <td>794</td>\n",
              "      <td>213</td>\n",
              "      <td>909127</td>\n",
              "      <td>874</td>\n",
              "      <td>1.0</td>\n",
              "      <td>4</td>\n",
              "      <td>3</td>\n",
              "      <td>1</td>\n",
              "      <td>1.0</td>\n",
              "      <td>STAY</td>\n",
              "      <td>80</td>\n",
              "      <td>IOS</td>\n",
              "    </tr>\n",
              "  </tbody>\n",
              "</table>\n",
              "</div>\n",
              "    <div class=\"colab-df-buttons\">\n",
              "\n",
              "  <div class=\"colab-df-container\">\n",
              "    <button class=\"colab-df-convert\" onclick=\"convertToInteractive('df-a7a9d7c9-85b9-4f0a-b904-91e1f39b4005')\"\n",
              "            title=\"Convert this dataframe to an interactive table.\"\n",
              "            style=\"display:none;\">\n",
              "\n",
              "  <svg xmlns=\"http://www.w3.org/2000/svg\" height=\"24px\" viewBox=\"0 -960 960 960\">\n",
              "    <path d=\"M120-120v-720h720v720H120Zm60-500h600v-160H180v160Zm220 220h160v-160H400v160Zm0 220h160v-160H400v160ZM180-400h160v-160H180v160Zm440 0h160v-160H620v160ZM180-180h160v-160H180v160Zm440 0h160v-160H620v160Z\"/>\n",
              "  </svg>\n",
              "    </button>\n",
              "\n",
              "  <style>\n",
              "    .colab-df-container {\n",
              "      display:flex;\n",
              "      gap: 12px;\n",
              "    }\n",
              "\n",
              "    .colab-df-convert {\n",
              "      background-color: #E8F0FE;\n",
              "      border: none;\n",
              "      border-radius: 50%;\n",
              "      cursor: pointer;\n",
              "      display: none;\n",
              "      fill: #1967D2;\n",
              "      height: 32px;\n",
              "      padding: 0 0 0 0;\n",
              "      width: 32px;\n",
              "    }\n",
              "\n",
              "    .colab-df-convert:hover {\n",
              "      background-color: #E2EBFA;\n",
              "      box-shadow: 0px 1px 2px rgba(60, 64, 67, 0.3), 0px 1px 3px 1px rgba(60, 64, 67, 0.15);\n",
              "      fill: #174EA6;\n",
              "    }\n",
              "\n",
              "    .colab-df-buttons div {\n",
              "      margin-bottom: 4px;\n",
              "    }\n",
              "\n",
              "    [theme=dark] .colab-df-convert {\n",
              "      background-color: #3B4455;\n",
              "      fill: #D2E3FC;\n",
              "    }\n",
              "\n",
              "    [theme=dark] .colab-df-convert:hover {\n",
              "      background-color: #434B5C;\n",
              "      box-shadow: 0px 1px 3px 1px rgba(0, 0, 0, 0.15);\n",
              "      filter: drop-shadow(0px 1px 2px rgba(0, 0, 0, 0.3));\n",
              "      fill: #FFFFFF;\n",
              "    }\n",
              "  </style>\n",
              "\n",
              "    <script>\n",
              "      const buttonEl =\n",
              "        document.querySelector('#df-a7a9d7c9-85b9-4f0a-b904-91e1f39b4005 button.colab-df-convert');\n",
              "      buttonEl.style.display =\n",
              "        google.colab.kernel.accessAllowed ? 'block' : 'none';\n",
              "\n",
              "      async function convertToInteractive(key) {\n",
              "        const element = document.querySelector('#df-a7a9d7c9-85b9-4f0a-b904-91e1f39b4005');\n",
              "        const dataTable =\n",
              "          await google.colab.kernel.invokeFunction('convertToInteractive',\n",
              "                                                    [key], {});\n",
              "        if (!dataTable) return;\n",
              "\n",
              "        const docLinkHtml = 'Like what you see? Visit the ' +\n",
              "          '<a target=\"_blank\" href=https://colab.research.google.com/notebooks/data_table.ipynb>data table notebook</a>'\n",
              "          + ' to learn more about interactive tables.';\n",
              "        element.innerHTML = '';\n",
              "        dataTable['output_type'] = 'display_data';\n",
              "        await google.colab.output.renderOutput(dataTable, element);\n",
              "        const docLink = document.createElement('div');\n",
              "        docLink.innerHTML = docLinkHtml;\n",
              "        element.appendChild(docLink);\n",
              "      }\n",
              "    </script>\n",
              "  </div>\n",
              "\n",
              "\n",
              "<div id=\"df-98dc48d6-1820-463f-880c-f79991d7752c\">\n",
              "  <button class=\"colab-df-quickchart\" onclick=\"quickchart('df-98dc48d6-1820-463f-880c-f79991d7752c')\"\n",
              "            title=\"Suggest charts\"\n",
              "            style=\"display:none;\">\n",
              "\n",
              "<svg xmlns=\"http://www.w3.org/2000/svg\" height=\"24px\"viewBox=\"0 0 24 24\"\n",
              "     width=\"24px\">\n",
              "    <g>\n",
              "        <path d=\"M19 3H5c-1.1 0-2 .9-2 2v14c0 1.1.9 2 2 2h14c1.1 0 2-.9 2-2V5c0-1.1-.9-2-2-2zM9 17H7v-7h2v7zm4 0h-2V7h2v10zm4 0h-2v-4h2v4z\"/>\n",
              "    </g>\n",
              "</svg>\n",
              "  </button>\n",
              "\n",
              "<style>\n",
              "  .colab-df-quickchart {\n",
              "      --bg-color: #E8F0FE;\n",
              "      --fill-color: #1967D2;\n",
              "      --hover-bg-color: #E2EBFA;\n",
              "      --hover-fill-color: #174EA6;\n",
              "      --disabled-fill-color: #AAA;\n",
              "      --disabled-bg-color: #DDD;\n",
              "  }\n",
              "\n",
              "  [theme=dark] .colab-df-quickchart {\n",
              "      --bg-color: #3B4455;\n",
              "      --fill-color: #D2E3FC;\n",
              "      --hover-bg-color: #434B5C;\n",
              "      --hover-fill-color: #FFFFFF;\n",
              "      --disabled-bg-color: #3B4455;\n",
              "      --disabled-fill-color: #666;\n",
              "  }\n",
              "\n",
              "  .colab-df-quickchart {\n",
              "    background-color: var(--bg-color);\n",
              "    border: none;\n",
              "    border-radius: 50%;\n",
              "    cursor: pointer;\n",
              "    display: none;\n",
              "    fill: var(--fill-color);\n",
              "    height: 32px;\n",
              "    padding: 0;\n",
              "    width: 32px;\n",
              "  }\n",
              "\n",
              "  .colab-df-quickchart:hover {\n",
              "    background-color: var(--hover-bg-color);\n",
              "    box-shadow: 0 1px 2px rgba(60, 64, 67, 0.3), 0 1px 3px 1px rgba(60, 64, 67, 0.15);\n",
              "    fill: var(--button-hover-fill-color);\n",
              "  }\n",
              "\n",
              "  .colab-df-quickchart-complete:disabled,\n",
              "  .colab-df-quickchart-complete:disabled:hover {\n",
              "    background-color: var(--disabled-bg-color);\n",
              "    fill: var(--disabled-fill-color);\n",
              "    box-shadow: none;\n",
              "  }\n",
              "\n",
              "  .colab-df-spinner {\n",
              "    border: 2px solid var(--fill-color);\n",
              "    border-color: transparent;\n",
              "    border-bottom-color: var(--fill-color);\n",
              "    animation:\n",
              "      spin 1s steps(1) infinite;\n",
              "  }\n",
              "\n",
              "  @keyframes spin {\n",
              "    0% {\n",
              "      border-color: transparent;\n",
              "      border-bottom-color: var(--fill-color);\n",
              "      border-left-color: var(--fill-color);\n",
              "    }\n",
              "    20% {\n",
              "      border-color: transparent;\n",
              "      border-left-color: var(--fill-color);\n",
              "      border-top-color: var(--fill-color);\n",
              "    }\n",
              "    30% {\n",
              "      border-color: transparent;\n",
              "      border-left-color: var(--fill-color);\n",
              "      border-top-color: var(--fill-color);\n",
              "      border-right-color: var(--fill-color);\n",
              "    }\n",
              "    40% {\n",
              "      border-color: transparent;\n",
              "      border-right-color: var(--fill-color);\n",
              "      border-top-color: var(--fill-color);\n",
              "    }\n",
              "    60% {\n",
              "      border-color: transparent;\n",
              "      border-right-color: var(--fill-color);\n",
              "    }\n",
              "    80% {\n",
              "      border-color: transparent;\n",
              "      border-right-color: var(--fill-color);\n",
              "      border-bottom-color: var(--fill-color);\n",
              "    }\n",
              "    90% {\n",
              "      border-color: transparent;\n",
              "      border-bottom-color: var(--fill-color);\n",
              "    }\n",
              "  }\n",
              "</style>\n",
              "\n",
              "  <script>\n",
              "    async function quickchart(key) {\n",
              "      const quickchartButtonEl =\n",
              "        document.querySelector('#' + key + ' button');\n",
              "      quickchartButtonEl.disabled = true;  // To prevent multiple clicks.\n",
              "      quickchartButtonEl.classList.add('colab-df-spinner');\n",
              "      try {\n",
              "        const charts = await google.colab.kernel.invokeFunction(\n",
              "            'suggestCharts', [key], {});\n",
              "      } catch (error) {\n",
              "        console.error('Error during call to suggestCharts:', error);\n",
              "      }\n",
              "      quickchartButtonEl.classList.remove('colab-df-spinner');\n",
              "      quickchartButtonEl.classList.add('colab-df-quickchart-complete');\n",
              "    }\n",
              "    (() => {\n",
              "      let quickchartButtonEl =\n",
              "        document.querySelector('#df-98dc48d6-1820-463f-880c-f79991d7752c button');\n",
              "      quickchartButtonEl.style.display =\n",
              "        google.colab.kernel.accessAllowed ? 'block' : 'none';\n",
              "    })();\n",
              "  </script>\n",
              "</div>\n",
              "\n",
              "    </div>\n",
              "  </div>\n"
            ],
            "application/vnd.google.colaboratory.intrinsic+json": {
              "type": "dataframe",
              "variable_name": "df_clean",
              "summary": "{\n  \"name\": \"df_clean\",\n  \"rows\": 10412,\n  \"fields\": [\n    {\n      \"column\": \"college\",\n      \"properties\": {\n        \"dtype\": \"number\",\n        \"std\": 0,\n        \"min\": 0,\n        \"max\": 1,\n        \"num_unique_values\": 2,\n        \"samples\": [\n          0,\n          1\n        ],\n        \"semantic_type\": \"\",\n        \"description\": \"\"\n      }\n    },\n    {\n      \"column\": \"income\",\n      \"properties\": {\n        \"dtype\": \"number\",\n        \"std\": 109041,\n        \"min\": 52491,\n        \"max\": 431916,\n        \"num_unique_values\": 10270,\n        \"samples\": [\n          315077,\n          404278\n        ],\n        \"semantic_type\": \"\",\n        \"description\": \"\"\n      }\n    },\n    {\n      \"column\": \"data_overage_mb\",\n      \"properties\": {\n        \"dtype\": \"number\",\n        \"std\": 113,\n        \"min\": 0,\n        \"max\": 380,\n        \"num_unique_values\": 381,\n        \"samples\": [\n          333,\n          16\n        ],\n        \"semantic_type\": \"\",\n        \"description\": \"\"\n      }\n    },\n    {\n      \"column\": \"data_leftover_mb\",\n      \"properties\": {\n        \"dtype\": \"number\",\n        \"std\": 28,\n        \"min\": 0,\n        \"max\": 89,\n        \"num_unique_values\": 90,\n        \"samples\": [\n          7,\n          16\n        ],\n        \"semantic_type\": \"\",\n        \"description\": \"\"\n      }\n    },\n    {\n      \"column\": \"data_mb_used\",\n      \"properties\": {\n        \"dtype\": \"number\",\n        \"std\": 2205,\n        \"min\": 400,\n        \"max\": 8000,\n        \"num_unique_values\": 5665,\n        \"samples\": [\n          1174,\n          7261\n        ],\n        \"semantic_type\": \"\",\n        \"description\": \"\"\n      }\n    },\n    {\n      \"column\": \"text_message_count\",\n      \"properties\": {\n        \"dtype\": \"number\",\n        \"std\": 48,\n        \"min\": 52,\n        \"max\": 220,\n        \"num_unique_values\": 169,\n        \"samples\": [\n          114,\n          94\n        ],\n        \"semantic_type\": \"\",\n        \"description\": \"\"\n      }\n    },\n    {\n      \"column\": \"house\",\n      \"properties\": {\n        \"dtype\": \"number\",\n        \"std\": 286836,\n        \"min\": 320238,\n        \"max\": 1456389,\n        \"num_unique_values\": 10352,\n        \"samples\": [\n          890721,\n          670386\n        ],\n        \"semantic_type\": \"\",\n        \"description\": \"\"\n      }\n    },\n    {\n      \"column\": \"handset_price\",\n      \"properties\": {\n        \"dtype\": \"number\",\n        \"std\": 225,\n        \"min\": 215,\n        \"max\": 999,\n        \"num_unique_values\": 785,\n        \"samples\": [\n          727,\n          243\n        ],\n        \"semantic_type\": \"\",\n        \"description\": \"\"\n      }\n    },\n    {\n      \"column\": \"over_15mins_calls_per_month\",\n      \"properties\": {\n        \"dtype\": \"number\",\n        \"std\": 8.444672702649555,\n        \"min\": 0.0,\n        \"max\": 35.0,\n        \"num_unique_values\": 36,\n        \"samples\": [\n          7.0,\n          19.0\n        ],\n        \"semantic_type\": \"\",\n        \"description\": \"\"\n      }\n    },\n    {\n      \"column\": \"average_call_duration\",\n      \"properties\": {\n        \"dtype\": \"number\",\n        \"std\": 5,\n        \"min\": 1,\n        \"max\": 19,\n        \"num_unique_values\": 19,\n        \"samples\": [\n          8,\n          9\n        ],\n        \"semantic_type\": \"\",\n        \"description\": \"\"\n      }\n    },\n    {\n      \"column\": \"reported_satisfaction\",\n      \"properties\": {\n        \"dtype\": \"number\",\n        \"std\": 0,\n        \"min\": 1,\n        \"max\": 3,\n        \"num_unique_values\": 3,\n        \"samples\": [\n          1,\n          3\n        ],\n        \"semantic_type\": \"\",\n        \"description\": \"\"\n      }\n    },\n    {\n      \"column\": \"reported_usage_level\",\n      \"properties\": {\n        \"dtype\": \"number\",\n        \"std\": 0,\n        \"min\": 1,\n        \"max\": 3,\n        \"num_unique_values\": 3,\n        \"samples\": [\n          1,\n          3\n        ],\n        \"semantic_type\": \"\",\n        \"description\": \"\"\n      }\n    },\n    {\n      \"column\": \"considering_change_of_plan\",\n      \"properties\": {\n        \"dtype\": \"number\",\n        \"std\": 0.46380525846204884,\n        \"min\": 0.0,\n        \"max\": 1.0,\n        \"num_unique_values\": 3,\n        \"samples\": [\n          1.0,\n          0.0\n        ],\n        \"semantic_type\": \"\",\n        \"description\": \"\"\n      }\n    },\n    {\n      \"column\": \"leave\",\n      \"properties\": {\n        \"dtype\": \"category\",\n        \"num_unique_values\": 2,\n        \"samples\": [\n          \"STAY\",\n          \"LEAVE\"\n        ],\n        \"semantic_type\": \"\",\n        \"description\": \"\"\n      }\n    },\n    {\n      \"column\": \"id\",\n      \"properties\": {\n        \"dtype\": \"number\",\n        \"std\": 6805,\n        \"min\": 2,\n        \"max\": 25354,\n        \"num_unique_values\": 8678,\n        \"samples\": [\n          8796,\n          15139\n        ],\n        \"semantic_type\": \"\",\n        \"description\": \"\"\n      }\n    },\n    {\n      \"column\": \"operating_system\",\n      \"properties\": {\n        \"dtype\": \"category\",\n        \"num_unique_values\": 2,\n        \"samples\": [\n          \"IOS\",\n          \"Android\"\n        ],\n        \"semantic_type\": \"\",\n        \"description\": \"\"\n      }\n    }\n  ]\n}"
            }
          },
          "metadata": {},
          "execution_count": 8
        }
      ],
      "source": [
        "df_clean.loc[df_clean['college'] == 'one', 'college'] = \"1\"\n",
        "df_clean.loc[df_clean['college'] == 'zero', 'college'] = \"0\"\n",
        "df_clean.loc[df_clean['reported_satisfaction'] == 'low', 'reported_satisfaction'] = \"1\"\n",
        "df_clean.loc[df_clean['reported_satisfaction'] == 'avg', 'reported_satisfaction'] = \"2\"\n",
        "df_clean.loc[df_clean['reported_satisfaction'] == 'high', 'reported_satisfaction'] = \"3\"\n",
        "df_clean.loc[df_clean['reported_usage_level'] == 'low', 'reported_usage_level'] = \"1\"\n",
        "df_clean.loc[df_clean['reported_usage_level'] == 'avg', 'reported_usage_level'] = \"2\"\n",
        "df_clean.loc[df_clean['reported_usage_level'] == 'high', 'reported_usage_level'] = \"3\"\n",
        "df_clean.loc[df_clean['considering_change_of_plan'] == 'yes', 'considering_change_of_plan'] = \"1\"\n",
        "df_clean.loc[df_clean['considering_change_of_plan'] == 'no', 'considering_change_of_plan'] = \"0\"\n",
        "df_clean.loc[df_clean['considering_change_of_plan'] == 'maybe', 'considering_change_of_plan'] = \"0.5\"\n",
        "\n",
        "df_clean['college'] = df_clean['college'].astype('int')\n",
        "df_clean['reported_satisfaction'] = df_clean['reported_satisfaction'].astype('int')\n",
        "df_clean['reported_usage_level'] = df_clean['reported_usage_level'].astype('int')\n",
        "df_clean['considering_change_of_plan'] = df_clean['considering_change_of_plan'].astype('float')\n",
        "\n",
        "df_clean.head(10)"
      ]
    },
    {
      "cell_type": "markdown",
      "metadata": {
        "id": "AuB0G9gJt7gn"
      },
      "source": [
        "# Convert attributes to factors\n",
        "\n",
        "- Leave\n",
        "- College\n",
        "- Reported satisfaction\n",
        "- Reported usage level\n",
        "- Considering change of plan"
      ]
    },
    {
      "cell_type": "code",
      "execution_count": 9,
      "metadata": {
        "id": "inCqTVMDt6ex",
        "colab": {
          "base_uri": "https://localhost:8080/"
        },
        "outputId": "ca8e0349-d104-4bdc-ddd5-8ff5278ae504"
      },
      "outputs": [
        {
          "output_type": "stream",
          "name": "stdout",
          "text": [
            "<class 'pandas.core.frame.DataFrame'>\n",
            "Index: 10412 entries, 0 to 14998\n",
            "Data columns (total 16 columns):\n",
            " #   Column                       Non-Null Count  Dtype   \n",
            "---  ------                       --------------  -----   \n",
            " 0   college                      10412 non-null  category\n",
            " 1   income                       10412 non-null  int64   \n",
            " 2   data_overage_mb              10412 non-null  int64   \n",
            " 3   data_leftover_mb             10412 non-null  int64   \n",
            " 4   data_mb_used                 10412 non-null  int64   \n",
            " 5   text_message_count           10412 non-null  int64   \n",
            " 6   house                        10412 non-null  int64   \n",
            " 7   handset_price                10412 non-null  int64   \n",
            " 8   over_15mins_calls_per_month  10412 non-null  float64 \n",
            " 9   average_call_duration        10412 non-null  int64   \n",
            " 10  reported_satisfaction        10412 non-null  category\n",
            " 11  reported_usage_level         10412 non-null  category\n",
            " 12  considering_change_of_plan   10412 non-null  category\n",
            " 13  leave                        10412 non-null  category\n",
            " 14  id                           10412 non-null  int64   \n",
            " 15  operating_system             10412 non-null  object  \n",
            "dtypes: category(5), float64(1), int64(9), object(1)\n",
            "memory usage: 1.0+ MB\n"
          ]
        }
      ],
      "source": [
        "#Method #1\n",
        "#df_clean['leave'] = pd.Categorical(df_clean['leave'])\n",
        "\n",
        "#Method #2\n",
        "df_clean['leave'] = df_clean['leave'].astype('category')\n",
        "df_clean['college'] = df_clean['college'].astype('category')\n",
        "df_clean['reported_satisfaction'] = df_clean['reported_satisfaction'].astype('category')\n",
        "df_clean['reported_usage_level'] = df_clean['reported_usage_level'].astype('category')\n",
        "df_clean['considering_change_of_plan'] = df_clean['considering_change_of_plan'].astype('category')\n",
        "\n",
        "df_clean.info()"
      ]
    },
    {
      "cell_type": "markdown",
      "metadata": {
        "id": "uathUi6xfDPf"
      },
      "source": [
        "## Calculate distribution of the outcome  \n",
        "What is the proportion of people who churned?\n",
        "\n",
        "Why should we care about this proportion?\n",
        "\n",
        "1. An important step in EDA is to understand the distribution of the target variable.\n",
        "\n",
        "2. The majority class in the target variable will serve as an important benchmark for model performance. If we used what we'll call a \"majority class classifier\"---this consists in always predicting the majority class, which in this case is `STAY`---we would be correct 1 - .49 or 51% of the time.  Another way of saying this is that majority class classifier in the MegaTelCo case would result in accuracy of .51.  \n",
        "\n",
        "Accuracy is defined as the proportion of correctly predicted labels. It is a commonly used error metric for evaluating classifier performance.\n",
        "\n",
        "Think about why a majority class model in this case would have an accuracy of .51.\n",
        "\n",
        "Whatever later model we develop should have better accuracy than this performance benchmark."
      ]
    },
    {
      "cell_type": "code",
      "execution_count": 10,
      "metadata": {
        "id": "bC93rEgNfFNh",
        "colab": {
          "base_uri": "https://localhost:8080/"
        },
        "outputId": "9b14b2a9-ec84-4984-90c4-33111046e647"
      },
      "outputs": [
        {
          "output_type": "execute_result",
          "data": {
            "text/plain": [
              "0.4990395697272378"
            ]
          },
          "metadata": {},
          "execution_count": 10
        }
      ],
      "source": [
        "#Add new field with binary value for leave\n",
        "df_clean['leave_flag'] = df_clean['leave'].str.replace('STAY','0')\n",
        "df_clean['leave_flag'] = df_clean['leave_flag'].str.replace('LEAVE','1')\n",
        "\n",
        "#Convert to integer\n",
        "df_clean['leave_flag'] = df_clean['leave_flag'].astype('int')\n",
        "\n",
        "#Find the mean value\n",
        "df_clean['leave_flag'].mean()\n"
      ]
    },
    {
      "cell_type": "markdown",
      "metadata": {
        "id": "SoJLJMlceORN"
      },
      "source": [
        "## Fit a basic tree model\n",
        "\n",
        "Use just two variables, 'income' and 'house'. We'll call this the \"money tree.\"\n",
        "\n",
        "What is the accuracy of the money tree?"
      ]
    },
    {
      "cell_type": "code",
      "execution_count": 11,
      "metadata": {
        "id": "WBH7aRXbOUf4"
      },
      "outputs": [],
      "source": [
        "# split the datafram into independent (x) and dependent (predicted) attributes (y)\n",
        "x = df_clean[['income','house']]\n",
        "y = df_clean['leave']\n",
        "\n",
        "money_tree = DecisionTreeClassifier()\n",
        "\n",
        "# Create Decision Tree Classifer\n",
        "money_tree = money_tree.fit(x,y)\n"
      ]
    },
    {
      "cell_type": "markdown",
      "metadata": {
        "id": "x5n0jUSL8Nde"
      },
      "source": [
        "## Preview the tree\n"
      ]
    },
    {
      "cell_type": "code",
      "execution_count": 12,
      "metadata": {
        "id": "lUzUB50D8SHt",
        "colab": {
          "base_uri": "https://localhost:8080/"
        },
        "outputId": "31ef62a9-8573-4e02-ca40-157b1507fe85"
      },
      "outputs": [
        {
          "output_type": "stream",
          "name": "stdout",
          "text": [
            "|--- feature_1 <= 1199923.00\n",
            "|   |--- feature_1 <= 534467.00\n",
            "|   |   |--- class: LEAVE\n",
            "|   |--- feature_1 >  534467.00\n",
            "|   |   |--- feature_0 <= 399240.50\n",
            "|   |   |   |--- feature_1 <= 1180154.50\n",
            "|   |   |   |   |--- feature_0 <= 399147.00\n",
            "|   |   |   |   |   |--- feature_1 <= 539440.00\n",
            "|   |   |   |   |   |   |--- feature_0 <= 207771.00\n",
            "|   |   |   |   |   |   |   |--- feature_1 <= 536714.00\n",
            "|   |   |   |   |   |   |   |   |--- feature_0 <= 55058.00\n",
            "|   |   |   |   |   |   |   |   |   |--- class: STAY\n",
            "|   |   |   |   |   |   |   |   |--- feature_0 >  55058.00\n",
            "|   |   |   |   |   |   |   |   |   |--- feature_0 <= 200961.00\n",
            "|   |   |   |   |   |   |   |   |   |   |--- feature_0 <= 156751.50\n",
            "|   |   |   |   |   |   |   |   |   |   |   |--- truncated branch of depth 4\n",
            "|   |   |   |   |   |   |   |   |   |   |--- feature_0 >  156751.50\n",
            "|   |   |   |   |   |   |   |   |   |   |   |--- class: LEAVE\n",
            "|   |   |   |   |   |   |   |   |   |--- feature_0 >  200961.00\n",
            "|   |   |   |   |   |   |   |   |   |   |--- class: STAY\n",
            "|   |   |   |   |   |   |   |--- feature_1 >  536714.00\n",
            "|   |   |   |   |   |   |   |   |--- feature_0 <= 193253.00\n",
            "|   |   |   |   |   |   |   |   |   |--- feature_0 <= 67689.50\n",
            "|   |   |   |   |   |   |   |   |   |   |--- class: LEAVE\n",
            "|   |   |   |   |   |   |   |   |   |--- feature_0 >  67689.50\n",
            "|   |   |   |   |   |   |   |   |   |   |--- feature_0 <= 114669.50\n",
            "|   |   |   |   |   |   |   |   |   |   |   |--- class: STAY\n",
            "|   |   |   |   |   |   |   |   |   |   |--- feature_0 >  114669.50\n",
            "|   |   |   |   |   |   |   |   |   |   |   |--- truncated branch of depth 3\n",
            "|   |   |   |   |   |   |   |   |--- feature_0 >  193253.00\n",
            "|   |   |   |   |   |   |   |   |   |--- class: LEAVE\n",
            "|   |   |   |   |   |   |--- feature_0 >  207771.00\n",
            "|   |   |   |   |   |   |   |--- feature_0 <= 362989.00\n",
            "|   |   |   |   |   |   |   |   |--- feature_0 <= 305240.50\n",
            "|   |   |   |   |   |   |   |   |   |--- feature_0 <= 253868.50\n",
            "|   |   |   |   |   |   |   |   |   |   |--- feature_1 <= 535141.50\n",
            "|   |   |   |   |   |   |   |   |   |   |   |--- class: LEAVE\n",
            "|   |   |   |   |   |   |   |   |   |   |--- feature_1 >  535141.50\n",
            "|   |   |   |   |   |   |   |   |   |   |   |--- class: STAY\n",
            "|   |   |   |   |   |   |   |   |   |--- feature_0 >  253868.50\n",
            "|   |   |   |   |   |   |   |   |   |   |--- feature_0 <= 271336.00\n",
            "|   |   |   |   |   |   |   |   |   |   |   |--- class: LEAVE\n",
            "|   |   |   |   |   |   |   |   |   |   |--- feature_0 >  271336.00\n",
            "|   |   |   |   |   |   |   |   |   |   |   |--- truncated branch of depth 4\n",
            "|   |   |   |   |   |   |   |   |--- feature_0 >  305240.50\n",
            "|   |   |   |   |   |   |   |   |   |--- class: STAY\n",
            "|   |   |   |   |   |   |   |--- feature_0 >  362989.00\n",
            "|   |   |   |   |   |   |   |   |--- feature_1 <= 535461.50\n",
            "|   |   |   |   |   |   |   |   |   |--- class: STAY\n",
            "|   |   |   |   |   |   |   |   |--- feature_1 >  535461.50\n",
            "|   |   |   |   |   |   |   |   |   |--- feature_0 <= 367775.50\n",
            "|   |   |   |   |   |   |   |   |   |   |--- class: LEAVE\n",
            "|   |   |   |   |   |   |   |   |   |--- feature_0 >  367775.50\n",
            "|   |   |   |   |   |   |   |   |   |   |--- feature_0 <= 372782.50\n",
            "|   |   |   |   |   |   |   |   |   |   |   |--- class: STAY\n",
            "|   |   |   |   |   |   |   |   |   |   |--- feature_0 >  372782.50\n",
            "|   |   |   |   |   |   |   |   |   |   |   |--- truncated branch of depth 2\n",
            "|   |   |   |   |   |--- feature_1 >  539440.00\n",
            "|   |   |   |   |   |   |--- feature_0 <= 398996.50\n",
            "|   |   |   |   |   |   |   |--- feature_0 <= 398703.50\n",
            "|   |   |   |   |   |   |   |   |--- feature_0 <= 333302.00\n",
            "|   |   |   |   |   |   |   |   |   |--- feature_0 <= 266701.00\n",
            "|   |   |   |   |   |   |   |   |   |   |--- feature_0 <= 185243.00\n",
            "|   |   |   |   |   |   |   |   |   |   |   |--- truncated branch of depth 43\n",
            "|   |   |   |   |   |   |   |   |   |   |--- feature_0 >  185243.00\n",
            "|   |   |   |   |   |   |   |   |   |   |   |--- truncated branch of depth 42\n",
            "|   |   |   |   |   |   |   |   |   |--- feature_0 >  266701.00\n",
            "|   |   |   |   |   |   |   |   |   |   |--- feature_0 <= 268039.50\n",
            "|   |   |   |   |   |   |   |   |   |   |   |--- truncated branch of depth 6\n",
            "|   |   |   |   |   |   |   |   |   |   |--- feature_0 >  268039.50\n",
            "|   |   |   |   |   |   |   |   |   |   |   |--- truncated branch of depth 43\n",
            "|   |   |   |   |   |   |   |   |--- feature_0 >  333302.00\n",
            "|   |   |   |   |   |   |   |   |   |--- feature_0 <= 339844.00\n",
            "|   |   |   |   |   |   |   |   |   |   |--- feature_0 <= 337107.00\n",
            "|   |   |   |   |   |   |   |   |   |   |   |--- truncated branch of depth 10\n",
            "|   |   |   |   |   |   |   |   |   |   |--- feature_0 >  337107.00\n",
            "|   |   |   |   |   |   |   |   |   |   |   |--- truncated branch of depth 9\n",
            "|   |   |   |   |   |   |   |   |   |--- feature_0 >  339844.00\n",
            "|   |   |   |   |   |   |   |   |   |   |--- feature_1 <= 594429.00\n",
            "|   |   |   |   |   |   |   |   |   |   |   |--- truncated branch of depth 15\n",
            "|   |   |   |   |   |   |   |   |   |   |--- feature_1 >  594429.00\n",
            "|   |   |   |   |   |   |   |   |   |   |   |--- truncated branch of depth 45\n",
            "|   |   |   |   |   |   |   |--- feature_0 >  398703.50\n",
            "|   |   |   |   |   |   |   |   |--- class: LEAVE\n",
            "|   |   |   |   |   |   |--- feature_0 >  398996.50\n",
            "|   |   |   |   |   |   |   |--- class: STAY\n",
            "|   |   |   |   |--- feature_0 >  399147.00\n",
            "|   |   |   |   |   |--- class: LEAVE\n",
            "|   |   |   |--- feature_1 >  1180154.50\n",
            "|   |   |   |   |--- feature_0 <= 376963.00\n",
            "|   |   |   |   |   |--- feature_1 <= 1181270.50\n",
            "|   |   |   |   |   |   |--- class: STAY\n",
            "|   |   |   |   |   |--- feature_1 >  1181270.50\n",
            "|   |   |   |   |   |   |--- feature_1 <= 1181873.50\n",
            "|   |   |   |   |   |   |   |--- feature_1 <= 1181470.50\n",
            "|   |   |   |   |   |   |   |   |--- feature_1 <= 1181352.00\n",
            "|   |   |   |   |   |   |   |   |   |--- class: LEAVE\n",
            "|   |   |   |   |   |   |   |   |--- feature_1 >  1181352.00\n",
            "|   |   |   |   |   |   |   |   |   |--- class: STAY\n",
            "|   |   |   |   |   |   |   |--- feature_1 >  1181470.50\n",
            "|   |   |   |   |   |   |   |   |--- class: LEAVE\n",
            "|   |   |   |   |   |   |--- feature_1 >  1181873.50\n",
            "|   |   |   |   |   |   |   |--- feature_1 <= 1184174.00\n",
            "|   |   |   |   |   |   |   |   |--- feature_0 <= 372983.50\n",
            "|   |   |   |   |   |   |   |   |   |--- feature_1 <= 1183747.00\n",
            "|   |   |   |   |   |   |   |   |   |   |--- feature_1 <= 1183465.00\n",
            "|   |   |   |   |   |   |   |   |   |   |   |--- truncated branch of depth 5\n",
            "|   |   |   |   |   |   |   |   |   |   |--- feature_1 >  1183465.00\n",
            "|   |   |   |   |   |   |   |   |   |   |   |--- truncated branch of depth 3\n",
            "|   |   |   |   |   |   |   |   |   |--- feature_1 >  1183747.00\n",
            "|   |   |   |   |   |   |   |   |   |   |--- class: STAY\n",
            "|   |   |   |   |   |   |   |   |--- feature_0 >  372983.50\n",
            "|   |   |   |   |   |   |   |   |   |--- class: LEAVE\n",
            "|   |   |   |   |   |   |   |--- feature_1 >  1184174.00\n",
            "|   |   |   |   |   |   |   |   |--- feature_1 <= 1185623.50\n",
            "|   |   |   |   |   |   |   |   |   |--- feature_0 <= 125381.50\n",
            "|   |   |   |   |   |   |   |   |   |   |--- class: LEAVE\n",
            "|   |   |   |   |   |   |   |   |   |--- feature_0 >  125381.50\n",
            "|   |   |   |   |   |   |   |   |   |   |--- feature_0 <= 135134.00\n",
            "|   |   |   |   |   |   |   |   |   |   |   |--- class: STAY\n",
            "|   |   |   |   |   |   |   |   |   |   |--- feature_0 >  135134.00\n",
            "|   |   |   |   |   |   |   |   |   |   |   |--- truncated branch of depth 3\n",
            "|   |   |   |   |   |   |   |   |--- feature_1 >  1185623.50\n",
            "|   |   |   |   |   |   |   |   |   |--- feature_1 <= 1188765.00\n",
            "|   |   |   |   |   |   |   |   |   |   |--- feature_0 <= 79736.50\n",
            "|   |   |   |   |   |   |   |   |   |   |   |--- class: LEAVE\n",
            "|   |   |   |   |   |   |   |   |   |   |--- feature_0 >  79736.50\n",
            "|   |   |   |   |   |   |   |   |   |   |   |--- truncated branch of depth 8\n",
            "|   |   |   |   |   |   |   |   |   |--- feature_1 >  1188765.00\n",
            "|   |   |   |   |   |   |   |   |   |   |--- feature_0 <= 115294.50\n",
            "|   |   |   |   |   |   |   |   |   |   |   |--- truncated branch of depth 8\n",
            "|   |   |   |   |   |   |   |   |   |   |--- feature_0 >  115294.50\n",
            "|   |   |   |   |   |   |   |   |   |   |   |--- truncated branch of depth 11\n",
            "|   |   |   |   |--- feature_0 >  376963.00\n",
            "|   |   |   |   |   |--- feature_1 <= 1192186.00\n",
            "|   |   |   |   |   |   |--- class: LEAVE\n",
            "|   |   |   |   |   |--- feature_1 >  1192186.00\n",
            "|   |   |   |   |   |   |--- feature_1 <= 1193974.50\n",
            "|   |   |   |   |   |   |   |--- class: STAY\n",
            "|   |   |   |   |   |   |--- feature_1 >  1193974.50\n",
            "|   |   |   |   |   |   |   |--- class: LEAVE\n",
            "|   |   |--- feature_0 >  399240.50\n",
            "|   |   |   |--- feature_0 <= 399945.00\n",
            "|   |   |   |   |--- feature_1 <= 1103969.00\n",
            "|   |   |   |   |   |--- class: STAY\n",
            "|   |   |   |   |--- feature_1 >  1103969.00\n",
            "|   |   |   |   |   |--- class: LEAVE\n",
            "|   |   |   |--- feature_0 >  399945.00\n",
            "|   |   |   |   |--- feature_0 <= 400322.00\n",
            "|   |   |   |   |   |--- class: LEAVE\n",
            "|   |   |   |   |--- feature_0 >  400322.00\n",
            "|   |   |   |   |   |--- feature_0 <= 431765.50\n",
            "|   |   |   |   |   |   |--- feature_0 <= 431675.00\n",
            "|   |   |   |   |   |   |   |--- feature_1 <= 547776.50\n",
            "|   |   |   |   |   |   |   |   |--- feature_0 <= 415520.00\n",
            "|   |   |   |   |   |   |   |   |   |--- class: LEAVE\n",
            "|   |   |   |   |   |   |   |   |--- feature_0 >  415520.00\n",
            "|   |   |   |   |   |   |   |   |   |--- feature_0 <= 419841.50\n",
            "|   |   |   |   |   |   |   |   |   |   |--- class: STAY\n",
            "|   |   |   |   |   |   |   |   |   |--- feature_0 >  419841.50\n",
            "|   |   |   |   |   |   |   |   |   |   |--- class: LEAVE\n",
            "|   |   |   |   |   |   |   |--- feature_1 >  547776.50\n",
            "|   |   |   |   |   |   |   |   |--- feature_1 <= 1149595.50\n",
            "|   |   |   |   |   |   |   |   |   |--- feature_1 <= 1138434.00\n",
            "|   |   |   |   |   |   |   |   |   |   |--- feature_1 <= 592855.00\n",
            "|   |   |   |   |   |   |   |   |   |   |   |--- truncated branch of depth 6\n",
            "|   |   |   |   |   |   |   |   |   |   |--- feature_1 >  592855.00\n",
            "|   |   |   |   |   |   |   |   |   |   |   |--- truncated branch of depth 44\n",
            "|   |   |   |   |   |   |   |   |   |--- feature_1 >  1138434.00\n",
            "|   |   |   |   |   |   |   |   |   |   |--- feature_0 <= 428676.50\n",
            "|   |   |   |   |   |   |   |   |   |   |   |--- truncated branch of depth 4\n",
            "|   |   |   |   |   |   |   |   |   |   |--- feature_0 >  428676.50\n",
            "|   |   |   |   |   |   |   |   |   |   |   |--- class: STAY\n",
            "|   |   |   |   |   |   |   |   |--- feature_1 >  1149595.50\n",
            "|   |   |   |   |   |   |   |   |   |--- feature_1 <= 1154522.50\n",
            "|   |   |   |   |   |   |   |   |   |   |--- class: STAY\n",
            "|   |   |   |   |   |   |   |   |   |--- feature_1 >  1154522.50\n",
            "|   |   |   |   |   |   |   |   |   |   |--- feature_0 <= 427846.00\n",
            "|   |   |   |   |   |   |   |   |   |   |   |--- truncated branch of depth 9\n",
            "|   |   |   |   |   |   |   |   |   |   |--- feature_0 >  427846.00\n",
            "|   |   |   |   |   |   |   |   |   |   |   |--- truncated branch of depth 2\n",
            "|   |   |   |   |   |   |--- feature_0 >  431675.00\n",
            "|   |   |   |   |   |   |   |--- class: LEAVE\n",
            "|   |   |   |   |   |--- feature_0 >  431765.50\n",
            "|   |   |   |   |   |   |--- class: STAY\n",
            "|--- feature_1 >  1199923.00\n",
            "|   |--- class: STAY\n",
            "\n"
          ]
        }
      ],
      "source": [
        "money_tree_text = tree.export_text(money_tree)\n",
        "print(money_tree_text)"
      ]
    },
    {
      "cell_type": "markdown",
      "metadata": {
        "id": "sSNfQKZA3jg2"
      },
      "source": [
        "## Check Accuracy\n",
        "\n",
        "What is the accuracy of the money_tree? Use these steps to calculate accuracy.\n",
        "\n",
        "Is this over fitted?"
      ]
    },
    {
      "cell_type": "code",
      "execution_count": 13,
      "metadata": {
        "id": "eVOSIP8SeYg3",
        "colab": {
          "base_uri": "https://localhost:8080/"
        },
        "outputId": "83cc5754-d951-4b51-e06f-e2736899bc38"
      },
      "outputs": [
        {
          "output_type": "stream",
          "name": "stdout",
          "text": [
            "Accuracy: 1.0\n"
          ]
        }
      ],
      "source": [
        "pred = money_tree.predict(x)\n",
        "\n",
        "#print(pred)\n",
        "\n",
        "print(\"Accuracy:\",metrics.accuracy_score(y, pred))"
      ]
    },
    {
      "cell_type": "markdown",
      "metadata": {
        "id": "bLm9U6FV5XB2"
      },
      "source": [
        "## Prune the tree\n",
        "\n",
        "Limit the number of levels to 2"
      ]
    },
    {
      "cell_type": "code",
      "execution_count": 14,
      "metadata": {
        "id": "eVaCrCeU5kmt"
      },
      "outputs": [],
      "source": [
        "money_tree2 = DecisionTreeClassifier(criterion=\"entropy\", max_depth=2)\n",
        "\n",
        "# Create Decision Tree Classifer\n",
        "money_tree2 = money_tree2.fit(x,y)\n"
      ]
    },
    {
      "cell_type": "markdown",
      "metadata": {
        "id": "kmKO3QVT8apE"
      },
      "source": [
        "## Preview the new tree"
      ]
    },
    {
      "cell_type": "code",
      "execution_count": 15,
      "metadata": {
        "id": "83PSEPJd8e3i",
        "colab": {
          "base_uri": "https://localhost:8080/"
        },
        "outputId": "71d610fd-5593-439f-fec2-fb52634f2403"
      },
      "outputs": [
        {
          "output_type": "stream",
          "name": "stdout",
          "text": [
            "|--- feature_1 <= 1199923.00\n",
            "|   |--- feature_1 <= 534467.00\n",
            "|   |   |--- class: LEAVE\n",
            "|   |--- feature_1 >  534467.00\n",
            "|   |   |--- class: LEAVE\n",
            "|--- feature_1 >  1199923.00\n",
            "|   |--- class: STAY\n",
            "\n"
          ]
        }
      ],
      "source": [
        "money_tree2_text = tree.export_text(money_tree2)\n",
        "print(money_tree2_text)"
      ]
    },
    {
      "cell_type": "markdown",
      "metadata": {
        "id": "KqK2LiaU7K1e"
      },
      "source": [
        "## Re-Check Accuracy\n",
        "\n",
        "Is this accuracy better than making a random guess?  (check the distribution above)"
      ]
    },
    {
      "cell_type": "code",
      "execution_count": 16,
      "metadata": {
        "id": "C2WGouWs6L5d",
        "colab": {
          "base_uri": "https://localhost:8080/"
        },
        "outputId": "5fe2e5b6-57c5-4894-ec09-946914381657"
      },
      "outputs": [
        {
          "output_type": "stream",
          "name": "stdout",
          "text": [
            "Accuracy: 0.6396465616596235\n"
          ]
        }
      ],
      "source": [
        "pred = money_tree2.predict(x)\n",
        "\n",
        "print(\"Accuracy:\",metrics.accuracy_score(y, pred))"
      ]
    },
    {
      "cell_type": "markdown",
      "metadata": {
        "id": "tYqqwO1l3e5l"
      },
      "source": [
        "## Visualize the model"
      ]
    },
    {
      "cell_type": "code",
      "execution_count": 17,
      "metadata": {
        "id": "yj--WKic3c_x",
        "colab": {
          "base_uri": "https://localhost:8080/",
          "height": 436
        },
        "outputId": "ce046c2d-87d4-43fc-897a-f7b450a70d11"
      },
      "outputs": [
        {
          "output_type": "execute_result",
          "data": {
            "image/png": "[encoded data removed]",
            "text/plain": [
              "<IPython.core.display.Image object>"
            ]
          },
          "metadata": {},
          "execution_count": 17
        }
      ],
      "source": [
        "from six import StringIO\n",
        "from IPython.display import Image\n",
        "import pydotplus\n",
        "\n",
        "dot_data = StringIO()\n",
        "export_graphviz(money_tree2, out_file=dot_data,\n",
        "                   feature_names=x.columns,class_names=['leave','stay'],\n",
        "                   filled=True,rounded=True, precision =2)\n",
        "\n",
        "graph=pydotplus.graph_from_dot_data(dot_data.getvalue())\n",
        "Image(graph.create_png())"
      ]
    },
    {
      "cell_type": "markdown",
      "metadata": {
        "id": "oKoXf3kkJVmm"
      },
      "source": [
        "## Fit a full tree model\n",
        "\n",
        "Use all of the independent attributes.  We'll call this the \"full tree.\"\n",
        "\n",
        "What is the accuracy of the full tree?"
      ]
    },
    {
      "cell_type": "code",
      "execution_count": 18,
      "metadata": {
        "id": "SFOTNW70MbI9"
      },
      "outputs": [],
      "source": [
        "# split the datafram into independent (x) and dependent (predicted) attributes (y)\n",
        "x = df_clean[['income','house','college','data_overage_mb','data_leftover_mb','handset_price','over_15mins_calls_per_month','average_call_duration','reported_satisfaction','reported_usage_level','considering_change_of_plan']]\n",
        "y = df_clean['leave']\n",
        "\n",
        "full_tree = DecisionTreeClassifier(criterion=\"entropy\", max_depth=1)\n",
        "\n",
        "# Create Decision Tree Classifer\n",
        "full_tree = full_tree.fit(x,y)\n"
      ]
    },
    {
      "cell_type": "markdown",
      "metadata": {
        "id": "qkDk8JG8n_W9"
      },
      "source": [
        "##Visualize the full tree"
      ]
    },
    {
      "cell_type": "code",
      "execution_count": 19,
      "metadata": {
        "id": "nFvB1n-_oBV6",
        "colab": {
          "base_uri": "https://localhost:8080/",
          "height": 277
        },
        "outputId": "0fff451e-6bf8-4e22-b5b2-31a832ba3031"
      },
      "outputs": [
        {
          "output_type": "execute_result",
          "data": {
            "image/png": "[encoded data removed]",
            "text/plain": [
              "<IPython.core.display.Image object>"
            ]
          },
          "metadata": {},
          "execution_count": 19
        }
      ],
      "source": [
        "from six import StringIO\n",
        "from IPython.display import Image\n",
        "import pydotplus\n",
        "\n",
        "dot_data = StringIO()\n",
        "export_graphviz(full_tree, out_file=dot_data,\n",
        "                   feature_names=x.columns,class_names=['leave','stay'],\n",
        "                   filled=True,rounded=True, precision =2)\n",
        "\n",
        "graph=pydotplus.graph_from_dot_data(dot_data.getvalue())\n",
        "Image(graph.create_png())"
      ]
    },
    {
      "cell_type": "markdown",
      "metadata": {
        "id": "m-ZyMMzIMrba"
      },
      "source": [
        "## Check Accuracy"
      ]
    },
    {
      "cell_type": "code",
      "execution_count": 20,
      "metadata": {
        "id": "Tzn8iS8hMtvQ",
        "colab": {
          "base_uri": "https://localhost:8080/"
        },
        "outputId": "d05e093d-6bd3-4e31-cd4c-3a92cce787a5"
      },
      "outputs": [
        {
          "output_type": "stream",
          "name": "stdout",
          "text": [
            "Accuracy: 0.6396465616596235\n"
          ]
        }
      ],
      "source": [
        "pred = full_tree.predict(x)\n",
        "\n",
        "#print(pred)\n",
        "\n",
        "print(\"Accuracy:\",metrics.accuracy_score(y, pred))"
      ]
    },
    {
      "cell_type": "markdown",
      "metadata": {
        "id": "phFKD8KKmgkF"
      },
      "source": [
        "##Test and Train\n",
        "Now we will split the dataset into 80% training data and 20% test data"
      ]
    },
    {
      "cell_type": "code",
      "execution_count": 21,
      "metadata": {
        "id": "77_0IJBRmuFT"
      },
      "outputs": [],
      "source": [
        "x_train, x_test, y_train, y_test = train_test_split(x, y, test_size=0.2)"
      ]
    },
    {
      "cell_type": "markdown",
      "metadata": {
        "id": "ZcjFH-MBnaml"
      },
      "source": [
        "##Create a new tree using only training data"
      ]
    },
    {
      "cell_type": "code",
      "execution_count": 22,
      "metadata": {
        "id": "ZS66hDodnmIX"
      },
      "outputs": [],
      "source": [
        "train_tree = DecisionTreeClassifier(criterion=\"entropy\", max_depth=4)\n",
        "\n",
        "# Create Decision Tree Classifer\n",
        "train_tree = train_tree.fit(x_train,y_train)"
      ]
    },
    {
      "cell_type": "markdown",
      "metadata": {
        "id": "meDBr2fatOqF"
      },
      "source": [
        "##Apply the new tree to our test data"
      ]
    },
    {
      "cell_type": "code",
      "execution_count": 23,
      "metadata": {
        "id": "UneJift1nxVb",
        "colab": {
          "base_uri": "https://localhost:8080/"
        },
        "outputId": "2265a84b-06fc-4839-a54d-c7d1c5482f65"
      },
      "outputs": [
        {
          "output_type": "stream",
          "name": "stdout",
          "text": [
            "Accuracy: 0.6658665386461834\n"
          ]
        }
      ],
      "source": [
        "pred = train_tree.predict(x_test)\n",
        "print(\"Accuracy:\",metrics.accuracy_score(y_test, pred))"
      ]
    },
    {
      "cell_type": "markdown",
      "metadata": {
        "id": "uYl-WnlrNBbr"
      },
      "source": [
        "## Visualize the trained tree"
      ]
    },
    {
      "cell_type": "code",
      "execution_count": 24,
      "metadata": {
        "id": "JsdhyStgNEYy",
        "colab": {
          "base_uri": "https://localhost:8080/",
          "height": 753
        },
        "outputId": "9e6dd099-9f51-4ca6-b18a-1cf0b2539c13"
      },
      "outputs": [
        {
          "output_type": "execute_result",
          "data": {
            "image/png": "[encoded data removed]",
            "text/plain": [
              "<IPython.core.display.Image object>"
            ]
          },
          "metadata": {},
          "execution_count": 24
        }
      ],
      "source": [
        "from six import StringIO\n",
        "from IPython.display import Image\n",
        "import pydotplus\n",
        "\n",
        "dot_data = StringIO()\n",
        "export_graphviz(train_tree, out_file=dot_data,\n",
        "                   feature_names=x.columns,class_names=['leave','stay'],\n",
        "                   filled=True,rounded=True, precision =2)\n",
        "\n",
        "graph=pydotplus.graph_from_dot_data(dot_data.getvalue())\n",
        "Image(graph.create_png())"
      ]
    },
    {
      "cell_type": "markdown",
      "metadata": {
        "id": "G0xA_kdGQ1Ln"
      },
      "source": [
        "## Did the model improve?\n",
        "👎  👍"
      ]
    },
    {
      "cell_type": "markdown",
      "metadata": {
        "id": "mjhOyJG_KWc2"
      },
      "source": [
        "## Fine Tune the Tree - Step 1\n",
        "\n",
        "➡️ Assignment Tasks\n",
        "- Create a new tree object using half the branch depth.  \n",
        "- Display the accuracy of the new tree.  How does this affect the accuracy?"
      ]
    },
    {
      "cell_type": "code",
      "execution_count": 26,
      "metadata": {
        "id": "UJsiVBsmKWc2",
        "colab": {
          "base_uri": "https://localhost:8080/"
        },
        "outputId": "db64d895-95b8-440a-8cfd-83f7c6aa746e"
      },
      "outputs": [
        {
          "output_type": "stream",
          "name": "stdout",
          "text": [
            "Accuracy with half depth: 0.6519443110897744\n"
          ]
        }
      ],
      "source": [
        "#tree 1\n",
        "train_tree_half_depth = DecisionTreeClassifier(criterion=\"entropy\", max_depth=2)\n",
        "\n",
        "# Create Decision Tree Classifer\n",
        "train_tree_half_depth = train_tree_half_depth.fit(x_train,y_train)\n",
        "\n",
        "# Apply the new tree to our test data\n",
        "pred = train_tree_half_depth.predict(x_test)\n",
        "print(\"Accuracy with half depth:\",metrics.accuracy_score(y_test, pred))"
      ]
    },
    {
      "cell_type": "markdown",
      "metadata": {
        "id": "vx3akGlBKWc2"
      },
      "source": [
        "## Fine Tune the Tree - Step 2\n",
        "\n",
        "➡️ Assignment Tasks\n",
        "- Create a new tree object using double the original branch depth.  \n",
        "- Display the accuracy of the new tree.  How does this affect the accuracy?"
      ]
    },
    {
      "cell_type": "code",
      "execution_count": 27,
      "metadata": {
        "id": "xaGDKIDlKWc2",
        "colab": {
          "base_uri": "https://localhost:8080/"
        },
        "outputId": "c39837f1-b7cb-45f2-e113-f87bf8e1d101"
      },
      "outputs": [
        {
          "output_type": "stream",
          "name": "stdout",
          "text": [
            "Accuracy with double depth: 0.6701872299567931\n"
          ]
        }
      ],
      "source": [
        "#tree 2\n",
        "train_tree_double_depth = DecisionTreeClassifier(criterion=\"entropy\", max_depth=8)\n",
        "\n",
        "# Create Decision Tree Classifer\n",
        "train_tree_double_depth = train_tree_double_depth.fit(x_train,y_train)\n",
        "\n",
        "# Apply the new tree to our test data\n",
        "pred = train_tree_double_depth.predict(x_test)\n",
        "print(\"Accuracy with double depth:\",metrics.accuracy_score(y_test, pred))"
      ]
    },
    {
      "cell_type": "markdown",
      "metadata": {
        "id": "KYn5hrFzKWc2"
      },
      "source": [
        "## Fine Tune the Tree - Step 3\n",
        "\n",
        "➡️ Assignment Tasks\n",
        "- Create a new tree with the maximum depth possible.  \n",
        "- Display the accuracy of the new tree.  How does this affect the accuracy?"
      ]
    },
    {
      "cell_type": "code",
      "execution_count": 28,
      "metadata": {
        "id": "KbvrUXP8KWc2",
        "colab": {
          "base_uri": "https://localhost:8080/"
        },
        "outputId": "5e894614-b8d0-4bb2-edec-97f71d644a90"
      },
      "outputs": [
        {
          "output_type": "stream",
          "name": "stdout",
          "text": [
            "Accuracy with max depth: 0.6481036965914546\n"
          ]
        }
      ],
      "source": [
        "#tree 3\n",
        "train_tree_max_depth = DecisionTreeClassifier(criterion=\"entropy\", max_depth=None)\n",
        "\n",
        "# Create Decision Tree Classifer\n",
        "train_tree_max_depth = train_tree_max_depth.fit(x_train,y_train)\n",
        "\n",
        "# Apply the new tree to our test data\n",
        "pred = train_tree_max_depth.predict(x_test)\n",
        "print(\"Accuracy with max depth:\",metrics.accuracy_score(y_test, pred))"
      ]
    },
    {
      "cell_type": "markdown",
      "metadata": {
        "id": "3lJrUyHDKWc2"
      },
      "source": [
        "## Fine Tune the Tree - Step 4\n",
        "\n",
        "➡️ Assignment Tasks\n",
        "- What is the maximum accuracy that you can achieve with 5 levels using other parameters, like test/training percentage, min_bucket, or min_split?  \n",
        "- Display the accuracy of the new tree.  It must be more accurate than the previous three steps"
      ]
    },
    {
      "cell_type": "code",
      "execution_count": 31,
      "metadata": {
        "id": "WEr0iX4nKWc2",
        "colab": {
          "base_uri": "https://localhost:8080/",
          "height": 211
        },
        "outputId": "11189187-74bc-4cfc-fe70-cb799c408d42"
      },
      "outputs": [
        {
          "output_type": "error",
          "ename": "NameError",
          "evalue": "name 'min_bucket' is not defined",
          "traceback": [
            "\u001b[0;31m---------------------------------------------------------------------------\u001b[0m",
            "\u001b[0;31mNameError\u001b[0m                                 Traceback (most recent call last)",
            "\u001b[0;32m<ipython-input-31-4e0c6e5fd212>\u001b[0m in \u001b[0;36m<cell line: 2>\u001b[0;34m()\u001b[0m\n\u001b[1;32m      1\u001b[0m \u001b[0;31m#tree 4\u001b[0m\u001b[0;34m\u001b[0m\u001b[0;34m\u001b[0m\u001b[0m\n\u001b[0;32m----> 2\u001b[0;31m \u001b[0mtrain_tree_5_levels\u001b[0m \u001b[0;34m=\u001b[0m \u001b[0mDecisionTreeClassifier\u001b[0m\u001b[0;34m(\u001b[0m\u001b[0mcriterion\u001b[0m\u001b[0;34m=\u001b[0m\u001b[0;34m\"entropy\"\u001b[0m\u001b[0;34m,\u001b[0m \u001b[0mmax_depth\u001b[0m\u001b[0;34m=\u001b[0m\u001b[0mmin_bucket\u001b[0m\u001b[0;34m)\u001b[0m\u001b[0;34m\u001b[0m\u001b[0;34m\u001b[0m\u001b[0m\n\u001b[0m\u001b[1;32m      3\u001b[0m \u001b[0;34m\u001b[0m\u001b[0m\n\u001b[1;32m      4\u001b[0m \u001b[0;31m# Create Decision Tree Classifer\u001b[0m\u001b[0;34m\u001b[0m\u001b[0;34m\u001b[0m\u001b[0m\n\u001b[1;32m      5\u001b[0m \u001b[0mtrain_tree_5_levels\u001b[0m \u001b[0;34m=\u001b[0m \u001b[0mtrain_tree_5\u001b[0m\u001b[0;34m\u001b[0m\u001b[0;34m\u001b[0m\u001b[0m\n",
            "\u001b[0;31mNameError\u001b[0m: name 'min_bucket' is not defined"
          ]
        }
      ],
      "source": [
        "#tree 4\n",
        "train_tree_5_levels = DecisionTreeClassifier(criterion=\"entropy\", max_depth=min_bucket)\n",
        "\n",
        "# Create Decision Tree Classifer\n",
        "train_tree_5_levels = train_tree_5\n",
        "\n",
        "pred = train_tree_5_levels.predict(x_test)\n",
        "print(\"Accuracy with 5 levels:\",metrics.accuracy_score(y_test, pred))"
      ]
    },
    {
      "cell_type": "code",
      "source": [],
      "metadata": {
        "id": "c6KrIQm4VJUC"
      },
      "execution_count": null,
      "outputs": []
    }
  ],
  "metadata": {
    "colab": {
      "provenance": [],
      "include_colab_link": true
    },
    "kernelspec": {
      "display_name": "Python 3",
      "name": "python3"
    },
    "language_info": {
      "name": "python"
    }
  },
  "nbformat": 4,
  "nbformat_minor": 0
}