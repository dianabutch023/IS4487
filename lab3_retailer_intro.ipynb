{
  "cells": [
    {
      "cell_type": "markdown",
      "metadata": {
        "id": "view-in-github",
        "colab_type": "text"
      },
      "source": [
        "<a href=\"https://colab.research.google.com/github/dianabutch023/IS4487/blob/main/lab3_retailer_intro.ipynb\" target=\"_parent\"><img src=\"https://colab.research.google.com/assets/colab-badge.svg\" alt=\"Open In Colab\"/></a>"
      ]
    },
    {
      "cell_type": "markdown",
      "metadata": {
        "id": "buMKIBjLqn3f"
      },
      "source": [
        "# IS 4487 Lab 3\n",
        "\n",
        "## Outline\n",
        "\n",
        "Repeat exercises from Lab 2, but with the *SuperStore Retail Orders* dataset\n",
        "- Loading installed packages\n",
        "- Inspect data\n",
        "- Explore plot types\n",
        "\n",
        "<a href=\"https://colab.research.google.com/github/Stan-Pugsley/is_4487_base/blob/main/Labs/Scripts/lab3_retailer_intro.ipynb\" target=\"_parent\"><img src=\"https://colab.research.google.com/assets/colab-badge.svg\" alt=\"Open In Colab\"/></a>"
      ]
    },
    {
      "cell_type": "markdown",
      "metadata": {
        "id": "iamX2XWCqn3j"
      },
      "source": [
        "## Load Libraries\n",
        "\n",
        "➡️ Assignment Tasks\n",
        "- Load any necessary libraries"
      ]
    },
    {
      "cell_type": "code",
      "execution_count": null,
      "metadata": {
        "vscode": {
          "languageId": "plaintext"
        },
        "id": "XKm9nE40qn3k"
      },
      "outputs": [],
      "source": [
        "import pandas as pd\n",
        "import matplotlib as mpl\n",
        "import sklearn as sl"
      ]
    },
    {
      "cell_type": "markdown",
      "metadata": {
        "id": "WEKGs54Hqn3k"
      },
      "source": [
        "## Import Data into Dataframe\n",
        "\n",
        "➡️ Assignment Tasks\n",
        "- Import data from the SuperStore retail dataset into a dataframe (in GitHub go to Labs > DataSets)\n",
        "- Describe or profile the dataframe"
      ]
    },
    {
      "cell_type": "code",
      "execution_count": null,
      "metadata": {
        "vscode": {
          "languageId": "plaintext"
        },
        "id": "PSvOvmYQqn3k",
        "colab": {
          "base_uri": "https://localhost:8080/"
        },
        "outputId": "d2312c93-873a-48d1-e2f0-1d7e9bcb4521"
      },
      "outputs": [
        {
          "output_type": "stream",
          "name": "stdout",
          "text": [
            "       order_id  order_date order_year_month     customer_name  \\\n",
            "0         51188  2023-07-01          2023-07     Audrey Blanco   \n",
            "1         51187  2023-07-01          2023-07       Isaac Allen   \n",
            "2         51199  2023-07-02          2023-07        Ian Morgan   \n",
            "3         51241  2023-07-04          2023-07        Alexa Bell   \n",
            "4         51297  2023-07-08          2023-07        Casey Diaz   \n",
            "...         ...         ...              ...               ...   \n",
            "56038     74084  2024-06-29          2024-06        Ian Rogers   \n",
            "56039     74062  2024-06-29          2024-06   Marcus Anderson   \n",
            "56040     74065  2024-06-29          2024-06  Nathaniel Howard   \n",
            "56041     74038  2024-06-29          2024-06        Robin Sanz   \n",
            "56042     74110  2024-06-30          2024-06   Mallory Jimenez   \n",
            "\n",
            "                    city state_province                       email  \\\n",
            "0      North Cherylmouth  New Hampshire     audrey_blanco@email.com   \n",
            "1             Traceyland  West Virginia       isaac_allen@email.com   \n",
            "2              Dylanberg   South Dakota        ian_morgan@email.com   \n",
            "3         Lake Tracytown      Wisconsin        alexa_bell@email.com   \n",
            "4            Byrdchester    Mississippi        casey_diaz@email.com   \n",
            "...                  ...            ...                         ...   \n",
            "56038          Port Mark        Alabama        ian_rogers@email.com   \n",
            "56039     West Aprilfurt       Nebraska   marcus_anderson@email.com   \n",
            "56040      New Lindaview       Illinois  nathaniel_howard@email.com   \n",
            "56041    West Frankhaven       Arkansas        robin_sanz@email.com   \n",
            "56042        Dillonhaven       Maryland   mallory_jimenez@email.com   \n",
            "\n",
            "      order_type  quantity                                       product_name  \\\n",
            "0         Retail       3.0  Apple iPhone XR (Yellow, 256 GB) (Includes Ear...   \n",
            "1         Online       4.0  Apple iPhone XR (Yellow, 256 GB) (Includes Ear...   \n",
            "2         Online       5.0  Apple iPhone XR (Yellow, 256 GB) (Includes Ear...   \n",
            "3         Online       1.0  Apple iPhone XR (Yellow, 256 GB) (Includes Ear...   \n",
            "4         Online       1.0  Apple iPhone XR (Yellow, 256 GB) (Includes Ear...   \n",
            "...          ...       ...                                                ...   \n",
            "56038     Retail       1.0  Samsung Galaxy S20 FE 5G (Cloud Navy, 8GB RAM,...   \n",
            "56039     Retail       1.0  Samsung Galaxy S20 FE 5G (Cloud Navy, 8GB RAM,...   \n",
            "56040     Online       1.0  Samsung Galaxy S20 FE 5G (Cloud Navy, 8GB RAM,...   \n",
            "56041     Retail       1.0  Samsung Galaxy S20 FE 5G (Cloud Navy, 8GB RAM,...   \n",
            "56042     Retail       1.0  Samsung Galaxy S20 FE 5G (Cloud Navy, 8GB RAM,...   \n",
            "\n",
            "      product_line  product_price product_status  \n",
            "0           Mobile         649.99         Active  \n",
            "1           Mobile         649.99         Active  \n",
            "2           Mobile         649.99         Active  \n",
            "3           Mobile         649.99         Active  \n",
            "4           Mobile         649.99         Active  \n",
            "...            ...            ...            ...  \n",
            "56038  Electronics         914.62         Active  \n",
            "56039  Electronics         914.62         Active  \n",
            "56040  Electronics         914.62         Active  \n",
            "56041  Electronics         914.62         Active  \n",
            "56042  Electronics         914.62         Active  \n",
            "\n",
            "[56043 rows x 13 columns]\n"
          ]
        }
      ],
      "source": [
        "df = pd.read_csv('https://github.com/Stan-Pugsley/is_4487_base/blob/main/Labs/DataSets/superstore_retail_orders.csv?raw=true')\n",
        "print (df)"
      ]
    },
    {
      "cell_type": "markdown",
      "metadata": {
        "id": "WyJyEApeqn3l"
      },
      "source": [
        "## Prepare Data\n",
        "\n",
        "➡️ Assignment Tasks\n",
        "- Convert the Total_Amount into a number (not a string)\n",
        "- Remove rows with empty (NULL) values\n",
        "- Optional: Locate outliers in any of the variables.   Filter them out if they are mistakes; keep them if they are exceptional cases."
      ]
    },
    {
      "cell_type": "code",
      "execution_count": 14,
      "metadata": {
        "vscode": {
          "languageId": "plaintext"
        },
        "id": "0KfuRED-qn3l",
        "colab": {
          "base_uri": "https://localhost:8080/"
        },
        "outputId": "017a76e3-68a5-465f-a9c7-9ad77fb7d2de"
      },
      "outputs": [
        {
          "output_type": "stream",
          "name": "stdout",
          "text": [
            "56043\n"
          ]
        }
      ],
      "source": [
        "# I am confused about what the value \"total amount\" is. I was unable to attend class on wednesday so I missed this explaination\n",
        "# Because of reason above, I am going to assume that \"Total Amount\" relates to the number of orders\n",
        "Total_Amount = df['order_id'].count()\n",
        "\n",
        "# Convert the first value in the 'Total Amount' column to an int.\n",
        "num = int(Total_Amount)\n",
        "print (num)"
      ]
    },
    {
      "cell_type": "code",
      "source": [
        "df.dropna(inplace=True)"
      ],
      "metadata": {
        "id": "jDaSCMZOijnU"
      },
      "execution_count": 22,
      "outputs": []
    },
    {
      "cell_type": "markdown",
      "metadata": {
        "id": "WE5jpD8aqn3l"
      },
      "source": [
        "## Summarize Data\n",
        "\n",
        "➡️ Assignment Tasks\n",
        "- Display the average price per month\n",
        "- Display the total revenue for all months"
      ]
    },
    {
      "cell_type": "code",
      "execution_count": 25,
      "metadata": {
        "vscode": {
          "languageId": "plaintext"
        },
        "id": "BxnCA3qyqn3m",
        "colab": {
          "base_uri": "https://localhost:8080/"
        },
        "outputId": "887cb96b-a562-428d-b2e5-886fd1838c3f"
      },
      "outputs": [
        {
          "output_type": "stream",
          "name": "stdout",
          "text": [
            "0        54.0\n",
            "1        54.0\n",
            "2        54.0\n",
            "3        54.0\n",
            "4        54.0\n",
            "         ... \n",
            "56038    76.0\n",
            "56039    76.0\n",
            "56040    76.0\n",
            "56041    76.0\n",
            "56042    76.0\n",
            "Name: product_price, Length: 55498, dtype: float64\n"
          ]
        }
      ],
      "source": [
        "#average price\n",
        "average_price = df['product_price']//12\n",
        "print(average_price)"
      ]
    },
    {
      "cell_type": "code",
      "execution_count": 28,
      "metadata": {
        "vscode": {
          "languageId": "plaintext"
        },
        "id": "gALpF2C9qn3n",
        "colab": {
          "base_uri": "https://localhost:8080/"
        },
        "outputId": "e18c7567-3ca8-4782-a16d-2bcf4733693a"
      },
      "outputs": [
        {
          "output_type": "stream",
          "name": "stdout",
          "text": [
            "55498\n"
          ]
        }
      ],
      "source": [
        "#total revenue\n",
        "total_revenue = average_price.count()\n",
        "print(total_revenue)"
      ]
    },
    {
      "cell_type": "code",
      "source": [],
      "metadata": {
        "id": "YDvyyQm5jLsf"
      },
      "execution_count": null,
      "outputs": []
    }
  ],
  "metadata": {
    "language_info": {
      "name": "python"
    },
    "colab": {
      "provenance": [],
      "include_colab_link": true
    },
    "kernelspec": {
      "name": "python3",
      "display_name": "Python 3"
    }
  },
  "nbformat": 4,
  "nbformat_minor": 0
}